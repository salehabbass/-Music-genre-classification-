{
 "cells": [
  {
   "cell_type": "code",
   "execution_count": 1,
   "metadata": {
    "id": "GnuKieC5NN6b"
   },
   "outputs": [],
   "source": [
    "import pandas as pd\n",
    "import numpy as np\n",
    "import matplotlib.pyplot as plt\n",
    "import seaborn as sns\n"
   ]
  },
  {
   "cell_type": "code",
   "execution_count": 2,
   "metadata": {
    "id": "U6hq9SYoN4dr"
   },
   "outputs": [],
   "source": [
    "train_data = pd.read_csv('train (1).csv')\n",
    "test_data = pd.read_csv('test (2).csv')"
   ]
  },
  {
   "cell_type": "code",
   "execution_count": 3,
   "metadata": {
    "colab": {
     "base_uri": "https://localhost:8080/",
     "height": 409
    },
    "id": "fil6cl15OJuO",
    "outputId": "8556129e-fd8f-4860-bf10-da41373dd95e"
   },
   "outputs": [
    {
     "data": {
      "text/html": [
       "<div>\n",
       "<style scoped>\n",
       "    .dataframe tbody tr th:only-of-type {\n",
       "        vertical-align: middle;\n",
       "    }\n",
       "\n",
       "    .dataframe tbody tr th {\n",
       "        vertical-align: top;\n",
       "    }\n",
       "\n",
       "    .dataframe thead th {\n",
       "        text-align: right;\n",
       "    }\n",
       "</style>\n",
       "<table border=\"1\" class=\"dataframe\">\n",
       "  <thead>\n",
       "    <tr style=\"text-align: right;\">\n",
       "      <th></th>\n",
       "      <th>Id</th>\n",
       "      <th>Artist Name</th>\n",
       "      <th>Track Name</th>\n",
       "      <th>Popularity</th>\n",
       "      <th>danceability</th>\n",
       "      <th>energy</th>\n",
       "      <th>key</th>\n",
       "      <th>loudness</th>\n",
       "      <th>mode</th>\n",
       "      <th>speechiness</th>\n",
       "      <th>acousticness</th>\n",
       "      <th>instrumentalness</th>\n",
       "      <th>liveness</th>\n",
       "      <th>valence</th>\n",
       "      <th>tempo</th>\n",
       "      <th>duration_in min/ms</th>\n",
       "      <th>time_signature</th>\n",
       "      <th>Class</th>\n",
       "    </tr>\n",
       "  </thead>\n",
       "  <tbody>\n",
       "    <tr>\n",
       "      <th>0</th>\n",
       "      <td>1</td>\n",
       "      <td>Marina Maximilian</td>\n",
       "      <td>Not Afraid</td>\n",
       "      <td>37.0</td>\n",
       "      <td>0.334</td>\n",
       "      <td>0.536</td>\n",
       "      <td>9.0</td>\n",
       "      <td>-6.649</td>\n",
       "      <td>0</td>\n",
       "      <td>0.0381</td>\n",
       "      <td>0.378000</td>\n",
       "      <td>NaN</td>\n",
       "      <td>0.106</td>\n",
       "      <td>0.235</td>\n",
       "      <td>152.429</td>\n",
       "      <td>204947.0</td>\n",
       "      <td>4</td>\n",
       "      <td>9</td>\n",
       "    </tr>\n",
       "    <tr>\n",
       "      <th>1</th>\n",
       "      <td>2</td>\n",
       "      <td>The Black Keys</td>\n",
       "      <td>Howlin' for You</td>\n",
       "      <td>67.0</td>\n",
       "      <td>0.725</td>\n",
       "      <td>0.747</td>\n",
       "      <td>11.0</td>\n",
       "      <td>-5.545</td>\n",
       "      <td>1</td>\n",
       "      <td>0.0876</td>\n",
       "      <td>0.027200</td>\n",
       "      <td>0.0468</td>\n",
       "      <td>0.104</td>\n",
       "      <td>0.380</td>\n",
       "      <td>132.921</td>\n",
       "      <td>191956.0</td>\n",
       "      <td>4</td>\n",
       "      <td>6</td>\n",
       "    </tr>\n",
       "    <tr>\n",
       "      <th>2</th>\n",
       "      <td>3</td>\n",
       "      <td>Royal &amp; the Serpent</td>\n",
       "      <td>phuck u</td>\n",
       "      <td>NaN</td>\n",
       "      <td>0.584</td>\n",
       "      <td>0.804</td>\n",
       "      <td>7.0</td>\n",
       "      <td>-6.094</td>\n",
       "      <td>1</td>\n",
       "      <td>0.0619</td>\n",
       "      <td>0.000968</td>\n",
       "      <td>0.6350</td>\n",
       "      <td>0.284</td>\n",
       "      <td>0.635</td>\n",
       "      <td>159.953</td>\n",
       "      <td>161037.0</td>\n",
       "      <td>4</td>\n",
       "      <td>10</td>\n",
       "    </tr>\n",
       "    <tr>\n",
       "      <th>3</th>\n",
       "      <td>4</td>\n",
       "      <td>Detroit Blues Band</td>\n",
       "      <td>Missing You</td>\n",
       "      <td>12.0</td>\n",
       "      <td>0.515</td>\n",
       "      <td>0.308</td>\n",
       "      <td>NaN</td>\n",
       "      <td>-14.711</td>\n",
       "      <td>1</td>\n",
       "      <td>0.0312</td>\n",
       "      <td>0.907000</td>\n",
       "      <td>0.0213</td>\n",
       "      <td>0.300</td>\n",
       "      <td>0.501</td>\n",
       "      <td>172.472</td>\n",
       "      <td>298093.0</td>\n",
       "      <td>3</td>\n",
       "      <td>2</td>\n",
       "    </tr>\n",
       "    <tr>\n",
       "      <th>4</th>\n",
       "      <td>5</td>\n",
       "      <td>Coast Contra</td>\n",
       "      <td>My Lady</td>\n",
       "      <td>48.0</td>\n",
       "      <td>0.565</td>\n",
       "      <td>0.777</td>\n",
       "      <td>6.0</td>\n",
       "      <td>-5.096</td>\n",
       "      <td>0</td>\n",
       "      <td>0.2490</td>\n",
       "      <td>0.183000</td>\n",
       "      <td>NaN</td>\n",
       "      <td>0.211</td>\n",
       "      <td>0.619</td>\n",
       "      <td>88.311</td>\n",
       "      <td>254145.0</td>\n",
       "      <td>4</td>\n",
       "      <td>5</td>\n",
       "    </tr>\n",
       "  </tbody>\n",
       "</table>\n",
       "</div>"
      ],
      "text/plain": [
       "   Id          Artist Name       Track Name  Popularity  danceability  energy  \\\n",
       "0   1    Marina Maximilian       Not Afraid        37.0         0.334   0.536   \n",
       "1   2       The Black Keys  Howlin' for You        67.0         0.725   0.747   \n",
       "2   3  Royal & the Serpent          phuck u         NaN         0.584   0.804   \n",
       "3   4   Detroit Blues Band      Missing You        12.0         0.515   0.308   \n",
       "4   5         Coast Contra          My Lady        48.0         0.565   0.777   \n",
       "\n",
       "    key  loudness  mode  speechiness  acousticness  instrumentalness  \\\n",
       "0   9.0    -6.649     0       0.0381      0.378000               NaN   \n",
       "1  11.0    -5.545     1       0.0876      0.027200            0.0468   \n",
       "2   7.0    -6.094     1       0.0619      0.000968            0.6350   \n",
       "3   NaN   -14.711     1       0.0312      0.907000            0.0213   \n",
       "4   6.0    -5.096     0       0.2490      0.183000               NaN   \n",
       "\n",
       "   liveness  valence    tempo  duration_in min/ms  time_signature  Class  \n",
       "0     0.106    0.235  152.429            204947.0               4      9  \n",
       "1     0.104    0.380  132.921            191956.0               4      6  \n",
       "2     0.284    0.635  159.953            161037.0               4     10  \n",
       "3     0.300    0.501  172.472            298093.0               3      2  \n",
       "4     0.211    0.619   88.311            254145.0               4      5  "
      ]
     },
     "execution_count": 3,
     "metadata": {},
     "output_type": "execute_result"
    }
   ],
   "source": [
    "train_data.head()"
   ]
  },
  {
   "cell_type": "code",
   "execution_count": 4,
   "metadata": {
    "colab": {
     "base_uri": "https://localhost:8080/"
    },
    "id": "ithR--VCQRUb",
    "outputId": "6de27672-2308-48a6-a1e4-82f608ed33ff"
   },
   "outputs": [
    {
     "data": {
      "text/plain": [
       "(14396, 18)"
      ]
     },
     "execution_count": 4,
     "metadata": {},
     "output_type": "execute_result"
    }
   ],
   "source": [
    "train_data.shape"
   ]
  },
  {
   "cell_type": "code",
   "execution_count": 5,
   "metadata": {
    "colab": {
     "base_uri": "https://localhost:8080/"
    },
    "id": "fj0zHiBZO35M",
    "outputId": "64c914f4-26dd-4278-c878-3aca60023f6a"
   },
   "outputs": [
    {
     "data": {
      "text/plain": [
       "Index(['Id', 'Artist Name', 'Track Name', 'Popularity', 'danceability',\n",
       "       'energy', 'key', 'loudness', 'mode', 'speechiness', 'acousticness',\n",
       "       'instrumentalness', 'liveness', 'valence', 'tempo',\n",
       "       'duration_in min/ms', 'time_signature', 'Class'],\n",
       "      dtype='object')"
      ]
     },
     "execution_count": 5,
     "metadata": {},
     "output_type": "execute_result"
    }
   ],
   "source": [
    "train_data.columns"
   ]
  },
  {
   "cell_type": "code",
   "execution_count": 6,
   "metadata": {
    "colab": {
     "base_uri": "https://localhost:8080/"
    },
    "id": "Dea23VrqPBSJ",
    "outputId": "ad7806b1-09b0-45ca-888d-de7df16edc1a"
   },
   "outputs": [
    {
     "name": "stdout",
     "output_type": "stream",
     "text": [
      "<class 'pandas.core.frame.DataFrame'>\n",
      "RangeIndex: 14396 entries, 0 to 14395\n",
      "Data columns (total 18 columns):\n",
      " #   Column              Non-Null Count  Dtype  \n",
      "---  ------              --------------  -----  \n",
      " 0   Id                  14396 non-null  int64  \n",
      " 1   Artist Name         14396 non-null  object \n",
      " 2   Track Name          14396 non-null  object \n",
      " 3   Popularity          14063 non-null  float64\n",
      " 4   danceability        14396 non-null  float64\n",
      " 5   energy              14396 non-null  float64\n",
      " 6   key                 12787 non-null  float64\n",
      " 7   loudness            14396 non-null  float64\n",
      " 8   mode                14396 non-null  int64  \n",
      " 9   speechiness         14396 non-null  float64\n",
      " 10  acousticness        14396 non-null  float64\n",
      " 11  instrumentalness    10855 non-null  float64\n",
      " 12  liveness            14396 non-null  float64\n",
      " 13  valence             14396 non-null  float64\n",
      " 14  tempo               14396 non-null  float64\n",
      " 15  duration_in min/ms  14396 non-null  float64\n",
      " 16  time_signature      14396 non-null  int64  \n",
      " 17  Class               14396 non-null  int64  \n",
      "dtypes: float64(12), int64(4), object(2)\n",
      "memory usage: 2.0+ MB\n"
     ]
    }
   ],
   "source": [
    "train_data.info()"
   ]
  },
  {
   "cell_type": "code",
   "execution_count": 7,
   "metadata": {
    "colab": {
     "base_uri": "https://localhost:8080/"
    },
    "id": "f1KRr6etP89s",
    "outputId": "0b83bf49-eb0f-4aba-fc40-4d9a8d9a0ae1"
   },
   "outputs": [
    {
     "data": {
      "text/plain": [
       "Id                       0\n",
       "Artist Name              0\n",
       "Track Name               0\n",
       "Popularity             333\n",
       "danceability             0\n",
       "energy                   0\n",
       "key                   1609\n",
       "loudness                 0\n",
       "mode                     0\n",
       "speechiness              0\n",
       "acousticness             0\n",
       "instrumentalness      3541\n",
       "liveness                 0\n",
       "valence                  0\n",
       "tempo                    0\n",
       "duration_in min/ms       0\n",
       "time_signature           0\n",
       "Class                    0\n",
       "dtype: int64"
      ]
     },
     "execution_count": 7,
     "metadata": {},
     "output_type": "execute_result"
    }
   ],
   "source": [
    "train_data.isnull().sum()"
   ]
  },
  {
   "cell_type": "code",
   "execution_count": 8,
   "metadata": {
    "id": "Z3lIGCQAR0as"
   },
   "outputs": [],
   "source": [
    "values = {\"Popularity\": train_data[\"Popularity\"].mean(), \"key\": train_data[\"key\"].mean(), \"instrumentalness\": train_data[\"instrumentalness\"].mean()}\n",
    "train_data = train_data.fillna(value=values)"
   ]
  },
  {
   "cell_type": "code",
   "execution_count": 9,
   "metadata": {
    "colab": {
     "base_uri": "https://localhost:8080/",
     "height": 409
    },
    "id": "YbO0nAiIU1cp",
    "outputId": "b6cce19e-fcf8-4a7a-c066-0f3764137481"
   },
   "outputs": [
    {
     "data": {
      "text/html": [
       "<div>\n",
       "<style scoped>\n",
       "    .dataframe tbody tr th:only-of-type {\n",
       "        vertical-align: middle;\n",
       "    }\n",
       "\n",
       "    .dataframe tbody tr th {\n",
       "        vertical-align: top;\n",
       "    }\n",
       "\n",
       "    .dataframe thead th {\n",
       "        text-align: right;\n",
       "    }\n",
       "</style>\n",
       "<table border=\"1\" class=\"dataframe\">\n",
       "  <thead>\n",
       "    <tr style=\"text-align: right;\">\n",
       "      <th></th>\n",
       "      <th>Id</th>\n",
       "      <th>Artist Name</th>\n",
       "      <th>Track Name</th>\n",
       "      <th>Popularity</th>\n",
       "      <th>danceability</th>\n",
       "      <th>energy</th>\n",
       "      <th>key</th>\n",
       "      <th>loudness</th>\n",
       "      <th>mode</th>\n",
       "      <th>speechiness</th>\n",
       "      <th>acousticness</th>\n",
       "      <th>instrumentalness</th>\n",
       "      <th>liveness</th>\n",
       "      <th>valence</th>\n",
       "      <th>tempo</th>\n",
       "      <th>duration_in min/ms</th>\n",
       "      <th>time_signature</th>\n",
       "      <th>Class</th>\n",
       "    </tr>\n",
       "  </thead>\n",
       "  <tbody>\n",
       "    <tr>\n",
       "      <th>0</th>\n",
       "      <td>1</td>\n",
       "      <td>Marina Maximilian</td>\n",
       "      <td>Not Afraid</td>\n",
       "      <td>37.000000</td>\n",
       "      <td>0.334</td>\n",
       "      <td>0.536</td>\n",
       "      <td>9.000000</td>\n",
       "      <td>-6.649</td>\n",
       "      <td>0</td>\n",
       "      <td>0.0381</td>\n",
       "      <td>0.378000</td>\n",
       "      <td>0.178129</td>\n",
       "      <td>0.106</td>\n",
       "      <td>0.235</td>\n",
       "      <td>152.429</td>\n",
       "      <td>204947.0</td>\n",
       "      <td>4</td>\n",
       "      <td>9</td>\n",
       "    </tr>\n",
       "    <tr>\n",
       "      <th>1</th>\n",
       "      <td>2</td>\n",
       "      <td>The Black Keys</td>\n",
       "      <td>Howlin' for You</td>\n",
       "      <td>67.000000</td>\n",
       "      <td>0.725</td>\n",
       "      <td>0.747</td>\n",
       "      <td>11.000000</td>\n",
       "      <td>-5.545</td>\n",
       "      <td>1</td>\n",
       "      <td>0.0876</td>\n",
       "      <td>0.027200</td>\n",
       "      <td>0.046800</td>\n",
       "      <td>0.104</td>\n",
       "      <td>0.380</td>\n",
       "      <td>132.921</td>\n",
       "      <td>191956.0</td>\n",
       "      <td>4</td>\n",
       "      <td>6</td>\n",
       "    </tr>\n",
       "    <tr>\n",
       "      <th>2</th>\n",
       "      <td>3</td>\n",
       "      <td>Royal &amp; the Serpent</td>\n",
       "      <td>phuck u</td>\n",
       "      <td>44.525208</td>\n",
       "      <td>0.584</td>\n",
       "      <td>0.804</td>\n",
       "      <td>7.000000</td>\n",
       "      <td>-6.094</td>\n",
       "      <td>1</td>\n",
       "      <td>0.0619</td>\n",
       "      <td>0.000968</td>\n",
       "      <td>0.635000</td>\n",
       "      <td>0.284</td>\n",
       "      <td>0.635</td>\n",
       "      <td>159.953</td>\n",
       "      <td>161037.0</td>\n",
       "      <td>4</td>\n",
       "      <td>10</td>\n",
       "    </tr>\n",
       "    <tr>\n",
       "      <th>3</th>\n",
       "      <td>4</td>\n",
       "      <td>Detroit Blues Band</td>\n",
       "      <td>Missing You</td>\n",
       "      <td>12.000000</td>\n",
       "      <td>0.515</td>\n",
       "      <td>0.308</td>\n",
       "      <td>5.953781</td>\n",
       "      <td>-14.711</td>\n",
       "      <td>1</td>\n",
       "      <td>0.0312</td>\n",
       "      <td>0.907000</td>\n",
       "      <td>0.021300</td>\n",
       "      <td>0.300</td>\n",
       "      <td>0.501</td>\n",
       "      <td>172.472</td>\n",
       "      <td>298093.0</td>\n",
       "      <td>3</td>\n",
       "      <td>2</td>\n",
       "    </tr>\n",
       "    <tr>\n",
       "      <th>4</th>\n",
       "      <td>5</td>\n",
       "      <td>Coast Contra</td>\n",
       "      <td>My Lady</td>\n",
       "      <td>48.000000</td>\n",
       "      <td>0.565</td>\n",
       "      <td>0.777</td>\n",
       "      <td>6.000000</td>\n",
       "      <td>-5.096</td>\n",
       "      <td>0</td>\n",
       "      <td>0.2490</td>\n",
       "      <td>0.183000</td>\n",
       "      <td>0.178129</td>\n",
       "      <td>0.211</td>\n",
       "      <td>0.619</td>\n",
       "      <td>88.311</td>\n",
       "      <td>254145.0</td>\n",
       "      <td>4</td>\n",
       "      <td>5</td>\n",
       "    </tr>\n",
       "  </tbody>\n",
       "</table>\n",
       "</div>"
      ],
      "text/plain": [
       "   Id          Artist Name       Track Name  Popularity  danceability  energy  \\\n",
       "0   1    Marina Maximilian       Not Afraid   37.000000         0.334   0.536   \n",
       "1   2       The Black Keys  Howlin' for You   67.000000         0.725   0.747   \n",
       "2   3  Royal & the Serpent          phuck u   44.525208         0.584   0.804   \n",
       "3   4   Detroit Blues Band      Missing You   12.000000         0.515   0.308   \n",
       "4   5         Coast Contra          My Lady   48.000000         0.565   0.777   \n",
       "\n",
       "         key  loudness  mode  speechiness  acousticness  instrumentalness  \\\n",
       "0   9.000000    -6.649     0       0.0381      0.378000          0.178129   \n",
       "1  11.000000    -5.545     1       0.0876      0.027200          0.046800   \n",
       "2   7.000000    -6.094     1       0.0619      0.000968          0.635000   \n",
       "3   5.953781   -14.711     1       0.0312      0.907000          0.021300   \n",
       "4   6.000000    -5.096     0       0.2490      0.183000          0.178129   \n",
       "\n",
       "   liveness  valence    tempo  duration_in min/ms  time_signature  Class  \n",
       "0     0.106    0.235  152.429            204947.0               4      9  \n",
       "1     0.104    0.380  132.921            191956.0               4      6  \n",
       "2     0.284    0.635  159.953            161037.0               4     10  \n",
       "3     0.300    0.501  172.472            298093.0               3      2  \n",
       "4     0.211    0.619   88.311            254145.0               4      5  "
      ]
     },
     "execution_count": 9,
     "metadata": {},
     "output_type": "execute_result"
    }
   ],
   "source": [
    "train_data.head()"
   ]
  },
  {
   "cell_type": "code",
   "execution_count": 10,
   "metadata": {
    "colab": {
     "base_uri": "https://localhost:8080/"
    },
    "id": "gL_PulZDVEmI",
    "outputId": "5f1f6599-d2fa-4f21-e354-83f4a4c453f6"
   },
   "outputs": [
    {
     "data": {
      "text/plain": [
       "Id                    0\n",
       "Artist Name           0\n",
       "Track Name            0\n",
       "Popularity            0\n",
       "danceability          0\n",
       "energy                0\n",
       "key                   0\n",
       "loudness              0\n",
       "mode                  0\n",
       "speechiness           0\n",
       "acousticness          0\n",
       "instrumentalness      0\n",
       "liveness              0\n",
       "valence               0\n",
       "tempo                 0\n",
       "duration_in min/ms    0\n",
       "time_signature        0\n",
       "Class                 0\n",
       "dtype: int64"
      ]
     },
     "execution_count": 10,
     "metadata": {},
     "output_type": "execute_result"
    }
   ],
   "source": [
    "train_data.isnull().sum()"
   ]
  },
  {
   "cell_type": "code",
   "execution_count": 11,
   "metadata": {
    "colab": {
     "base_uri": "https://localhost:8080/",
     "height": 382
    },
    "id": "517o2vMYVeRh",
    "outputId": "5f0f6b32-106f-448d-c808-3f8bec42b53e"
   },
   "outputs": [
    {
     "data": {
      "text/html": [
       "<div>\n",
       "<style scoped>\n",
       "    .dataframe tbody tr th:only-of-type {\n",
       "        vertical-align: middle;\n",
       "    }\n",
       "\n",
       "    .dataframe tbody tr th {\n",
       "        vertical-align: top;\n",
       "    }\n",
       "\n",
       "    .dataframe thead th {\n",
       "        text-align: right;\n",
       "    }\n",
       "</style>\n",
       "<table border=\"1\" class=\"dataframe\">\n",
       "  <thead>\n",
       "    <tr style=\"text-align: right;\">\n",
       "      <th></th>\n",
       "      <th>Id</th>\n",
       "      <th>Popularity</th>\n",
       "      <th>danceability</th>\n",
       "      <th>energy</th>\n",
       "      <th>key</th>\n",
       "      <th>loudness</th>\n",
       "      <th>mode</th>\n",
       "      <th>speechiness</th>\n",
       "      <th>acousticness</th>\n",
       "      <th>instrumentalness</th>\n",
       "      <th>liveness</th>\n",
       "      <th>valence</th>\n",
       "      <th>tempo</th>\n",
       "      <th>duration_in min/ms</th>\n",
       "      <th>time_signature</th>\n",
       "      <th>Class</th>\n",
       "    </tr>\n",
       "  </thead>\n",
       "  <tbody>\n",
       "    <tr>\n",
       "      <th>count</th>\n",
       "      <td>14396.000000</td>\n",
       "      <td>14396.000000</td>\n",
       "      <td>14396.000000</td>\n",
       "      <td>14396.000000</td>\n",
       "      <td>14396.000000</td>\n",
       "      <td>14396.000000</td>\n",
       "      <td>14396.000000</td>\n",
       "      <td>14396.000000</td>\n",
       "      <td>14396.000000</td>\n",
       "      <td>14396.000000</td>\n",
       "      <td>14396.000000</td>\n",
       "      <td>14396.000000</td>\n",
       "      <td>14396.000000</td>\n",
       "      <td>1.439600e+04</td>\n",
       "      <td>14396.000000</td>\n",
       "      <td>14396.000000</td>\n",
       "    </tr>\n",
       "    <tr>\n",
       "      <th>mean</th>\n",
       "      <td>7198.500000</td>\n",
       "      <td>44.525208</td>\n",
       "      <td>0.543105</td>\n",
       "      <td>0.662422</td>\n",
       "      <td>5.953781</td>\n",
       "      <td>-7.900852</td>\n",
       "      <td>0.640247</td>\n",
       "      <td>0.080181</td>\n",
       "      <td>0.246746</td>\n",
       "      <td>0.178129</td>\n",
       "      <td>0.195782</td>\n",
       "      <td>0.486379</td>\n",
       "      <td>122.695372</td>\n",
       "      <td>2.000942e+05</td>\n",
       "      <td>3.924354</td>\n",
       "      <td>6.695679</td>\n",
       "    </tr>\n",
       "    <tr>\n",
       "      <th>std</th>\n",
       "      <td>4155.911573</td>\n",
       "      <td>17.216285</td>\n",
       "      <td>0.165517</td>\n",
       "      <td>0.235967</td>\n",
       "      <td>3.015874</td>\n",
       "      <td>4.057362</td>\n",
       "      <td>0.479944</td>\n",
       "      <td>0.085157</td>\n",
       "      <td>0.310922</td>\n",
       "      <td>0.264206</td>\n",
       "      <td>0.159258</td>\n",
       "      <td>0.239476</td>\n",
       "      <td>29.538490</td>\n",
       "      <td>1.116891e+05</td>\n",
       "      <td>0.359520</td>\n",
       "      <td>3.206170</td>\n",
       "    </tr>\n",
       "    <tr>\n",
       "      <th>min</th>\n",
       "      <td>1.000000</td>\n",
       "      <td>1.000000</td>\n",
       "      <td>0.059600</td>\n",
       "      <td>0.001210</td>\n",
       "      <td>1.000000</td>\n",
       "      <td>-39.952000</td>\n",
       "      <td>0.000000</td>\n",
       "      <td>0.022500</td>\n",
       "      <td>0.000000</td>\n",
       "      <td>0.000001</td>\n",
       "      <td>0.011900</td>\n",
       "      <td>0.021500</td>\n",
       "      <td>30.557000</td>\n",
       "      <td>5.016500e-01</td>\n",
       "      <td>1.000000</td>\n",
       "      <td>0.000000</td>\n",
       "    </tr>\n",
       "    <tr>\n",
       "      <th>25%</th>\n",
       "      <td>3599.750000</td>\n",
       "      <td>33.000000</td>\n",
       "      <td>0.432000</td>\n",
       "      <td>0.508000</td>\n",
       "      <td>4.000000</td>\n",
       "      <td>-9.538000</td>\n",
       "      <td>0.000000</td>\n",
       "      <td>0.034800</td>\n",
       "      <td>0.004280</td>\n",
       "      <td>0.000295</td>\n",
       "      <td>0.097275</td>\n",
       "      <td>0.299000</td>\n",
       "      <td>99.799000</td>\n",
       "      <td>1.654458e+05</td>\n",
       "      <td>4.000000</td>\n",
       "      <td>5.000000</td>\n",
       "    </tr>\n",
       "    <tr>\n",
       "      <th>50%</th>\n",
       "      <td>7198.500000</td>\n",
       "      <td>44.000000</td>\n",
       "      <td>0.545000</td>\n",
       "      <td>0.699000</td>\n",
       "      <td>5.953781</td>\n",
       "      <td>-7.013500</td>\n",
       "      <td>1.000000</td>\n",
       "      <td>0.047100</td>\n",
       "      <td>0.081450</td>\n",
       "      <td>0.053400</td>\n",
       "      <td>0.129000</td>\n",
       "      <td>0.480500</td>\n",
       "      <td>120.060000</td>\n",
       "      <td>2.089410e+05</td>\n",
       "      <td>4.000000</td>\n",
       "      <td>8.000000</td>\n",
       "    </tr>\n",
       "    <tr>\n",
       "      <th>75%</th>\n",
       "      <td>10797.250000</td>\n",
       "      <td>56.000000</td>\n",
       "      <td>0.658000</td>\n",
       "      <td>0.861000</td>\n",
       "      <td>8.000000</td>\n",
       "      <td>-5.162000</td>\n",
       "      <td>1.000000</td>\n",
       "      <td>0.083100</td>\n",
       "      <td>0.432250</td>\n",
       "      <td>0.178129</td>\n",
       "      <td>0.256000</td>\n",
       "      <td>0.672000</td>\n",
       "      <td>141.988250</td>\n",
       "      <td>2.522470e+05</td>\n",
       "      <td>4.000000</td>\n",
       "      <td>10.000000</td>\n",
       "    </tr>\n",
       "    <tr>\n",
       "      <th>max</th>\n",
       "      <td>14396.000000</td>\n",
       "      <td>100.000000</td>\n",
       "      <td>0.989000</td>\n",
       "      <td>1.000000</td>\n",
       "      <td>11.000000</td>\n",
       "      <td>1.342000</td>\n",
       "      <td>1.000000</td>\n",
       "      <td>0.955000</td>\n",
       "      <td>0.996000</td>\n",
       "      <td>0.996000</td>\n",
       "      <td>0.992000</td>\n",
       "      <td>0.986000</td>\n",
       "      <td>217.416000</td>\n",
       "      <td>1.477187e+06</td>\n",
       "      <td>5.000000</td>\n",
       "      <td>10.000000</td>\n",
       "    </tr>\n",
       "  </tbody>\n",
       "</table>\n",
       "</div>"
      ],
      "text/plain": [
       "                 Id    Popularity  danceability        energy           key  \\\n",
       "count  14396.000000  14396.000000  14396.000000  14396.000000  14396.000000   \n",
       "mean    7198.500000     44.525208      0.543105      0.662422      5.953781   \n",
       "std     4155.911573     17.216285      0.165517      0.235967      3.015874   \n",
       "min        1.000000      1.000000      0.059600      0.001210      1.000000   \n",
       "25%     3599.750000     33.000000      0.432000      0.508000      4.000000   \n",
       "50%     7198.500000     44.000000      0.545000      0.699000      5.953781   \n",
       "75%    10797.250000     56.000000      0.658000      0.861000      8.000000   \n",
       "max    14396.000000    100.000000      0.989000      1.000000     11.000000   \n",
       "\n",
       "           loudness          mode   speechiness  acousticness  \\\n",
       "count  14396.000000  14396.000000  14396.000000  14396.000000   \n",
       "mean      -7.900852      0.640247      0.080181      0.246746   \n",
       "std        4.057362      0.479944      0.085157      0.310922   \n",
       "min      -39.952000      0.000000      0.022500      0.000000   \n",
       "25%       -9.538000      0.000000      0.034800      0.004280   \n",
       "50%       -7.013500      1.000000      0.047100      0.081450   \n",
       "75%       -5.162000      1.000000      0.083100      0.432250   \n",
       "max        1.342000      1.000000      0.955000      0.996000   \n",
       "\n",
       "       instrumentalness      liveness       valence         tempo  \\\n",
       "count      14396.000000  14396.000000  14396.000000  14396.000000   \n",
       "mean           0.178129      0.195782      0.486379    122.695372   \n",
       "std            0.264206      0.159258      0.239476     29.538490   \n",
       "min            0.000001      0.011900      0.021500     30.557000   \n",
       "25%            0.000295      0.097275      0.299000     99.799000   \n",
       "50%            0.053400      0.129000      0.480500    120.060000   \n",
       "75%            0.178129      0.256000      0.672000    141.988250   \n",
       "max            0.996000      0.992000      0.986000    217.416000   \n",
       "\n",
       "       duration_in min/ms  time_signature         Class  \n",
       "count        1.439600e+04    14396.000000  14396.000000  \n",
       "mean         2.000942e+05        3.924354      6.695679  \n",
       "std          1.116891e+05        0.359520      3.206170  \n",
       "min          5.016500e-01        1.000000      0.000000  \n",
       "25%          1.654458e+05        4.000000      5.000000  \n",
       "50%          2.089410e+05        4.000000      8.000000  \n",
       "75%          2.522470e+05        4.000000     10.000000  \n",
       "max          1.477187e+06        5.000000     10.000000  "
      ]
     },
     "execution_count": 11,
     "metadata": {},
     "output_type": "execute_result"
    }
   ],
   "source": [
    "train_data.describe()"
   ]
  },
  {
   "cell_type": "code",
   "execution_count": 12,
   "metadata": {
    "colab": {
     "base_uri": "https://localhost:8080/"
    },
    "id": "10ucKuXXWBuh",
    "outputId": "b8948f04-4b3b-4e58-967c-f7df5a1f5e2f"
   },
   "outputs": [
    {
     "data": {
      "text/plain": [
       "array([ 9,  6, 10,  2,  5,  0,  8,  4,  3,  1,  7], dtype=int64)"
      ]
     },
     "execution_count": 12,
     "metadata": {},
     "output_type": "execute_result"
    }
   ],
   "source": [
    "train_data[\"Class\"].unique()"
   ]
  },
  {
   "cell_type": "code",
   "execution_count": 13,
   "metadata": {
    "colab": {
     "base_uri": "https://localhost:8080/"
    },
    "id": "PuZGNqPewpqt",
    "outputId": "46d4f147-069c-413d-f643-b735db90509d"
   },
   "outputs": [
    {
     "data": {
      "text/plain": [
       "11"
      ]
     },
     "execution_count": 13,
     "metadata": {},
     "output_type": "execute_result"
    }
   ],
   "source": [
    "train_data[\"Class\"].nunique()"
   ]
  },
  {
   "cell_type": "code",
   "execution_count": 14,
   "metadata": {
    "id": "BLFYB_A2ftFU"
   },
   "outputs": [],
   "source": [
    "train_data = train_data.drop(\"Id\",axis = 1)"
   ]
  },
  {
   "cell_type": "code",
   "execution_count": 15,
   "metadata": {
    "colab": {
     "base_uri": "https://localhost:8080/",
     "height": 409
    },
    "id": "b7EvvlvSgVm4",
    "outputId": "161fec93-7c26-4315-86a1-d3d2b872d55c"
   },
   "outputs": [
    {
     "data": {
      "text/html": [
       "<div>\n",
       "<style scoped>\n",
       "    .dataframe tbody tr th:only-of-type {\n",
       "        vertical-align: middle;\n",
       "    }\n",
       "\n",
       "    .dataframe tbody tr th {\n",
       "        vertical-align: top;\n",
       "    }\n",
       "\n",
       "    .dataframe thead th {\n",
       "        text-align: right;\n",
       "    }\n",
       "</style>\n",
       "<table border=\"1\" class=\"dataframe\">\n",
       "  <thead>\n",
       "    <tr style=\"text-align: right;\">\n",
       "      <th></th>\n",
       "      <th>Artist Name</th>\n",
       "      <th>Track Name</th>\n",
       "      <th>Popularity</th>\n",
       "      <th>danceability</th>\n",
       "      <th>energy</th>\n",
       "      <th>key</th>\n",
       "      <th>loudness</th>\n",
       "      <th>mode</th>\n",
       "      <th>speechiness</th>\n",
       "      <th>acousticness</th>\n",
       "      <th>instrumentalness</th>\n",
       "      <th>liveness</th>\n",
       "      <th>valence</th>\n",
       "      <th>tempo</th>\n",
       "      <th>duration_in min/ms</th>\n",
       "      <th>time_signature</th>\n",
       "      <th>Class</th>\n",
       "    </tr>\n",
       "  </thead>\n",
       "  <tbody>\n",
       "    <tr>\n",
       "      <th>0</th>\n",
       "      <td>Marina Maximilian</td>\n",
       "      <td>Not Afraid</td>\n",
       "      <td>37.000000</td>\n",
       "      <td>0.334</td>\n",
       "      <td>0.536</td>\n",
       "      <td>9.000000</td>\n",
       "      <td>-6.649</td>\n",
       "      <td>0</td>\n",
       "      <td>0.0381</td>\n",
       "      <td>0.378000</td>\n",
       "      <td>0.178129</td>\n",
       "      <td>0.106</td>\n",
       "      <td>0.235</td>\n",
       "      <td>152.429</td>\n",
       "      <td>204947.0</td>\n",
       "      <td>4</td>\n",
       "      <td>9</td>\n",
       "    </tr>\n",
       "    <tr>\n",
       "      <th>1</th>\n",
       "      <td>The Black Keys</td>\n",
       "      <td>Howlin' for You</td>\n",
       "      <td>67.000000</td>\n",
       "      <td>0.725</td>\n",
       "      <td>0.747</td>\n",
       "      <td>11.000000</td>\n",
       "      <td>-5.545</td>\n",
       "      <td>1</td>\n",
       "      <td>0.0876</td>\n",
       "      <td>0.027200</td>\n",
       "      <td>0.046800</td>\n",
       "      <td>0.104</td>\n",
       "      <td>0.380</td>\n",
       "      <td>132.921</td>\n",
       "      <td>191956.0</td>\n",
       "      <td>4</td>\n",
       "      <td>6</td>\n",
       "    </tr>\n",
       "    <tr>\n",
       "      <th>2</th>\n",
       "      <td>Royal &amp; the Serpent</td>\n",
       "      <td>phuck u</td>\n",
       "      <td>44.525208</td>\n",
       "      <td>0.584</td>\n",
       "      <td>0.804</td>\n",
       "      <td>7.000000</td>\n",
       "      <td>-6.094</td>\n",
       "      <td>1</td>\n",
       "      <td>0.0619</td>\n",
       "      <td>0.000968</td>\n",
       "      <td>0.635000</td>\n",
       "      <td>0.284</td>\n",
       "      <td>0.635</td>\n",
       "      <td>159.953</td>\n",
       "      <td>161037.0</td>\n",
       "      <td>4</td>\n",
       "      <td>10</td>\n",
       "    </tr>\n",
       "    <tr>\n",
       "      <th>3</th>\n",
       "      <td>Detroit Blues Band</td>\n",
       "      <td>Missing You</td>\n",
       "      <td>12.000000</td>\n",
       "      <td>0.515</td>\n",
       "      <td>0.308</td>\n",
       "      <td>5.953781</td>\n",
       "      <td>-14.711</td>\n",
       "      <td>1</td>\n",
       "      <td>0.0312</td>\n",
       "      <td>0.907000</td>\n",
       "      <td>0.021300</td>\n",
       "      <td>0.300</td>\n",
       "      <td>0.501</td>\n",
       "      <td>172.472</td>\n",
       "      <td>298093.0</td>\n",
       "      <td>3</td>\n",
       "      <td>2</td>\n",
       "    </tr>\n",
       "    <tr>\n",
       "      <th>4</th>\n",
       "      <td>Coast Contra</td>\n",
       "      <td>My Lady</td>\n",
       "      <td>48.000000</td>\n",
       "      <td>0.565</td>\n",
       "      <td>0.777</td>\n",
       "      <td>6.000000</td>\n",
       "      <td>-5.096</td>\n",
       "      <td>0</td>\n",
       "      <td>0.2490</td>\n",
       "      <td>0.183000</td>\n",
       "      <td>0.178129</td>\n",
       "      <td>0.211</td>\n",
       "      <td>0.619</td>\n",
       "      <td>88.311</td>\n",
       "      <td>254145.0</td>\n",
       "      <td>4</td>\n",
       "      <td>5</td>\n",
       "    </tr>\n",
       "  </tbody>\n",
       "</table>\n",
       "</div>"
      ],
      "text/plain": [
       "           Artist Name       Track Name  Popularity  danceability  energy  \\\n",
       "0    Marina Maximilian       Not Afraid   37.000000         0.334   0.536   \n",
       "1       The Black Keys  Howlin' for You   67.000000         0.725   0.747   \n",
       "2  Royal & the Serpent          phuck u   44.525208         0.584   0.804   \n",
       "3   Detroit Blues Band      Missing You   12.000000         0.515   0.308   \n",
       "4         Coast Contra          My Lady   48.000000         0.565   0.777   \n",
       "\n",
       "         key  loudness  mode  speechiness  acousticness  instrumentalness  \\\n",
       "0   9.000000    -6.649     0       0.0381      0.378000          0.178129   \n",
       "1  11.000000    -5.545     1       0.0876      0.027200          0.046800   \n",
       "2   7.000000    -6.094     1       0.0619      0.000968          0.635000   \n",
       "3   5.953781   -14.711     1       0.0312      0.907000          0.021300   \n",
       "4   6.000000    -5.096     0       0.2490      0.183000          0.178129   \n",
       "\n",
       "   liveness  valence    tempo  duration_in min/ms  time_signature  Class  \n",
       "0     0.106    0.235  152.429            204947.0               4      9  \n",
       "1     0.104    0.380  132.921            191956.0               4      6  \n",
       "2     0.284    0.635  159.953            161037.0               4     10  \n",
       "3     0.300    0.501  172.472            298093.0               3      2  \n",
       "4     0.211    0.619   88.311            254145.0               4      5  "
      ]
     },
     "execution_count": 15,
     "metadata": {},
     "output_type": "execute_result"
    }
   ],
   "source": [
    "train_data.head()"
   ]
  },
  {
   "cell_type": "code",
   "execution_count": 16,
   "metadata": {
    "colab": {
     "base_uri": "https://localhost:8080/",
     "height": 462
    },
    "id": "FGFtXg0PgdCf",
    "outputId": "c917b470-1425-4198-a2a3-44f2a31a29a4"
   },
   "outputs": [
    {
     "data": {
      "text/plain": [
       "<AxesSubplot:>"
      ]
     },
     "execution_count": 16,
     "metadata": {},
     "output_type": "execute_result"
    },
    {
     "data": {
      "image/png": "[encoded data removed]",
      "text/plain": [
       "<Figure size 432x288 with 1 Axes>"
      ]
     },
     "metadata": {
      "needs_background": "light"
     },
     "output_type": "display_data"
    }
   ],
   "source": [
    "train_data.plot.box()"
   ]
  },
  {
   "cell_type": "code",
   "execution_count": 17,
   "metadata": {
    "colab": {
     "base_uri": "https://localhost:8080/",
     "height": 465
    },
    "id": "AF-SzbMdg6DT",
    "outputId": "7151dcdc-802a-4c1f-86a9-02ee3a6279f6"
   },
   "outputs": [
    {
     "data": {
      "text/plain": [
       "<AxesSubplot:ylabel='Frequency'>"
      ]
     },
     "execution_count": 17,
     "metadata": {},
     "output_type": "execute_result"
    },
    {
     "data": {
      "image/png": "[encoded data removed]",
      "text/plain": [
       "<Figure size 432x288 with 1 Axes>"
      ]
     },
     "metadata": {
      "needs_background": "light"
     },
     "output_type": "display_data"
    }
   ],
   "source": [
    "train_data.plot.hist()"
   ]
  },
  {
   "cell_type": "code",
   "execution_count": 18,
   "metadata": {
    "colab": {
     "base_uri": "https://localhost:8080/",
     "height": 466
    },
    "id": "hrDS5UKXi4jp",
    "outputId": "5a510e61-85b7-4201-a140-5c4fdcb1ae89"
   },
   "outputs": [
    {
     "data": {
      "text/plain": [
       "<AxesSubplot:xlabel='Popularity', ylabel='Class'>"
      ]
     },
     "execution_count": 18,
     "metadata": {},
     "output_type": "execute_result"
    },
    {
     "data": {
      "image/png": "[encoded data removed]",
      "text/plain": [
       "<Figure size 432x288 with 1 Axes>"
      ]
     },
     "metadata": {
      "needs_background": "light"
     },
     "output_type": "display_data"
    }
   ],
   "source": [
    "train_data.plot.scatter(x=\"Popularity\",y=\"Class\")"
   ]
  },
  {
   "cell_type": "code",
   "execution_count": 19,
   "metadata": {
    "colab": {
     "base_uri": "https://localhost:8080/",
     "height": 466
    },
    "id": "vbOpwSwZjW9c",
    "outputId": "63141163-efde-4995-d2f9-bfe802100db4"
   },
   "outputs": [
    {
     "data": {
      "text/plain": [
       "<AxesSubplot:xlabel='danceability', ylabel='Class'>"
      ]
     },
     "execution_count": 19,
     "metadata": {},
     "output_type": "execute_result"
    },
    {
     "data": {
      "image/png": "[encoded data removed]",
      "text/plain": [
       "<Figure size 432x288 with 1 Axes>"
      ]
     },
     "metadata": {
      "needs_background": "light"
     },
     "output_type": "display_data"
    }
   ],
   "source": [
    "train_data.plot.scatter(x=\"danceability\",y=\"Class\")"
   ]
  },
  {
   "cell_type": "code",
   "execution_count": 20,
   "metadata": {
    "colab": {
     "base_uri": "https://localhost:8080/",
     "height": 466
    },
    "id": "NoCE0EhJjehH",
    "outputId": "05c0b965-3aba-4aac-bbfc-095257115e11"
   },
   "outputs": [
    {
     "data": {
      "text/plain": [
       "<AxesSubplot:xlabel='mode', ylabel='Class'>"
      ]
     },
     "execution_count": 20,
     "metadata": {},
     "output_type": "execute_result"
    },
    {
     "data": {
      "image/png": "[encoded data removed]",
      "text/plain": [
       "<Figure size 432x288 with 1 Axes>"
      ]
     },
     "metadata": {
      "needs_background": "light"
     },
     "output_type": "display_data"
    }
   ],
   "source": [
    "train_data.plot.scatter(x=\"mode\",y=\"Class\")"
   ]
  },
  {
   "cell_type": "code",
   "execution_count": 21,
   "metadata": {
    "colab": {
     "base_uri": "https://localhost:8080/",
     "height": 467
    },
    "id": "P0vKZBXVj0J3",
    "outputId": "17c2f0dd-4039-4405-d39d-57ef89f7d7f0"
   },
   "outputs": [
    {
     "data": {
      "text/plain": [
       "<AxesSubplot:xlabel='duration_in min/ms', ylabel='Class'>"
      ]
     },
     "execution_count": 21,
     "metadata": {},
     "output_type": "execute_result"
    },
    {
     "data": {
      "image/png": "[encoded data removed]",
      "text/plain": [
       "<Figure size 432x288 with 1 Axes>"
      ]
     },
     "metadata": {
      "needs_background": "light"
     },
     "output_type": "display_data"
    }
   ],
   "source": [
    "train_data.plot.scatter(x=\"duration_in min/ms\",y=\"Class\")"
   ]
  },
  {
   "cell_type": "code",
   "execution_count": 22,
   "metadata": {
    "id": "1WVybvswm5Ha"
   },
   "outputs": [
    {
     "ename": "SyntaxError",
     "evalue": "EOL while scanning string literal (<ipython-input-22-5a69a0fda904>, line 14)",
     "output_type": "error",
     "traceback": [
      "\u001b[1;36m  File \u001b[1;32m\"<ipython-input-22-5a69a0fda904>\"\u001b[1;36m, line \u001b[1;32m14\u001b[0m\n\u001b[1;33m    ''''\u001b[0m\n\u001b[1;37m        \n^\u001b[0m\n\u001b[1;31mSyntaxError\u001b[0m\u001b[1;31m:\u001b[0m EOL while scanning string literal\n"
     ]
    }
   ],
   "source": [
    "''''threshold = 3\n",
    "X_features = ['Popularity','danceability','energy','key','loudness','mode','speechiness','acousticness','instrumentalness','liveness','valence','tempo','duration_in min/ms','time_signature']\n",
    "# Iterate over each column in the DataFrame\n",
    "for column in X_features:\n",
    "    # Calculate the mean and standard deviation of the column\n",
    "    mean = train_data[column].mean()\n",
    "    std = train_data[column].std()\n",
    "\n",
    "    # Define the condition for identifying outliers\n",
    "    condition = (train_data[column] > (mean + threshold * std)) | (train_data[column] < (mean - threshold * std))\n",
    "\n",
    "    # Filter out rows that contain outliers for the current column\n",
    "train_data = train_data[~condition]\n",
    "''''"
   ]
  },
  {
   "cell_type": "code",
   "execution_count": null,
   "metadata": {},
   "outputs": [],
   "source": [
    "train_data.shape"
   ]
  },
  {
   "cell_type": "code",
   "execution_count": 23,
   "metadata": {
    "colab": {
     "base_uri": "https://localhost:8080/",
     "height": 447
    },
    "id": "wRmmgireoX0_",
    "outputId": "ea4abf25-cf97-4999-adef-aa0c9a2b87e1"
   },
   "outputs": [
    {
     "data": {
      "text/plain": [
       "<AxesSubplot:ylabel='Frequency'>"
      ]
     },
     "execution_count": 23,
     "metadata": {},
     "output_type": "execute_result"
    },
    {
     "data": {
      "image/png": "[encoded data removed]",
      "text/plain": [
       "<Figure size 432x288 with 1 Axes>"
      ]
     },
     "metadata": {
      "needs_background": "light"
     },
     "output_type": "display_data"
    }
   ],
   "source": [
    "train_data['Popularity'].plot.hist()\n"
   ]
  },
  {
   "cell_type": "code",
   "execution_count": 24,
   "metadata": {
    "colab": {
     "base_uri": "https://localhost:8080/",
     "height": 447
    },
    "id": "VN6Gu1mtoovM",
    "outputId": "52c4e57e-456f-4b9f-ab1a-72817ffd93e6"
   },
   "outputs": [
    {
     "data": {
      "text/plain": [
       "<AxesSubplot:ylabel='Frequency'>"
      ]
     },
     "execution_count": 24,
     "metadata": {},
     "output_type": "execute_result"
    },
    {
     "data": {
      "image/png": "[encoded data removed]",
      "text/plain": [
       "<Figure size 432x288 with 1 Axes>"
      ]
     },
     "metadata": {
      "needs_background": "light"
     },
     "output_type": "display_data"
    }
   ],
   "source": [
    "train_data['danceability'].plot.hist()\n"
   ]
  },
  {
   "cell_type": "code",
   "execution_count": 25,
   "metadata": {
    "colab": {
     "base_uri": "https://localhost:8080/",
     "height": 447
    },
    "id": "DlFRPS7souRU",
    "outputId": "86fcbed3-58d8-4c2d-d2b2-9170223190cb"
   },
   "outputs": [
    {
     "data": {
      "text/plain": [
       "<AxesSubplot:ylabel='Frequency'>"
      ]
     },
     "execution_count": 25,
     "metadata": {},
     "output_type": "execute_result"
    },
    {
     "data": {
      "image/png": "[encoded data removed]",
      "text/plain": [
       "<Figure size 432x288 with 1 Axes>"
      ]
     },
     "metadata": {
      "needs_background": "light"
     },
     "output_type": "display_data"
    }
   ],
   "source": [
    "train_data['energy'].plot.hist()"
   ]
  },
  {
   "cell_type": "code",
   "execution_count": 26,
   "metadata": {
    "colab": {
     "base_uri": "https://localhost:8080/",
     "height": 447
    },
    "id": "TLvuK2YFo1dW",
    "outputId": "81733674-d269-4291-90a1-7f20d429b189"
   },
   "outputs": [
    {
     "data": {
      "text/plain": [
       "<AxesSubplot:ylabel='Frequency'>"
      ]
     },
     "execution_count": 26,
     "metadata": {},
     "output_type": "execute_result"
    },
    {
     "data": {
      "image/png": "[encoded data removed]",
      "text/plain": [
       "<Figure size 432x288 with 1 Axes>"
      ]
     },
     "metadata": {
      "needs_background": "light"
     },
     "output_type": "display_data"
    }
   ],
   "source": [
    "train_data['Class'].plot.hist()"
   ]
  },
  {
   "cell_type": "code",
   "execution_count": 27,
   "metadata": {
    "colab": {
     "base_uri": "https://localhost:8080/",
     "height": 447
    },
    "id": "AynF8tgApdVE",
    "outputId": "66322886-bb97-4900-abd9-0025f9c00c0f"
   },
   "outputs": [
    {
     "data": {
      "text/plain": [
       "<AxesSubplot:ylabel='Frequency'>"
      ]
     },
     "execution_count": 27,
     "metadata": {},
     "output_type": "execute_result"
    },
    {
     "data": {
      "image/png": "[encoded data removed]",
      "text/plain": [
       "<Figure size 432x288 with 1 Axes>"
      ]
     },
     "metadata": {
      "needs_background": "light"
     },
     "output_type": "display_data"
    }
   ],
   "source": [
    "train_data['instrumentalness'].plot.hist()"
   ]
  },
  {
   "cell_type": "code",
   "execution_count": 28,
   "metadata": {
    "colab": {
     "base_uri": "https://localhost:8080/",
     "height": 450
    },
    "id": "5XwntP0NpmBS",
    "outputId": "da74f768-fb9b-4515-bbec-248f726b68fa"
   },
   "outputs": [
    {
     "data": {
      "text/plain": [
       "<AxesSubplot:>"
      ]
     },
     "execution_count": 28,
     "metadata": {},
     "output_type": "execute_result"
    },
    {
     "data": {
      "image/png": "[encoded data removed]",
      "text/plain": [
       "<Figure size 432x288 with 1 Axes>"
      ]
     },
     "metadata": {
      "needs_background": "light"
     },
     "output_type": "display_data"
    }
   ],
   "source": [
    "train_data['Popularity'].plot.box()"
   ]
  },
  {
   "cell_type": "code",
   "execution_count": 29,
   "metadata": {
    "colab": {
     "base_uri": "https://localhost:8080/"
    },
    "id": "tR30wkTBr_MG",
    "outputId": "938ab53a-188d-4a97-f9ef-85fede59a6a9"
   },
   "outputs": [
    {
     "data": {
      "text/plain": [
       "12455"
      ]
     },
     "execution_count": 29,
     "metadata": {},
     "output_type": "execute_result"
    }
   ],
   "source": [
    "train_data['Track Name'].nunique()\n"
   ]
  },
  {
   "cell_type": "code",
   "execution_count": 30,
   "metadata": {
    "colab": {
     "base_uri": "https://localhost:8080/"
    },
    "id": "EVvasgDBu_1O",
    "outputId": "96f533c7-321c-4a10-cdec-1cab47914191"
   },
   "outputs": [
    {
     "data": {
      "text/plain": [
       "7913"
      ]
     },
     "execution_count": 30,
     "metadata": {},
     "output_type": "execute_result"
    }
   ],
   "source": [
    "train_data['Artist Name'].nunique()"
   ]
  },
  {
   "cell_type": "code",
   "execution_count": 31,
   "metadata": {
    "colab": {
     "base_uri": "https://localhost:8080/"
    },
    "id": "RL3WijQ5sOWL",
    "outputId": "43f0e686-5475-44a8-f42c-a8af65c90d70"
   },
   "outputs": [
    {
     "name": "stdout",
     "output_type": "stream",
     "text": [
      "Popularity            0.156752\n",
      "danceability         -0.101152\n",
      "energy                0.215611\n",
      "key                  -0.003924\n",
      "loudness              0.174111\n",
      "mode                 -0.040092\n",
      "speechiness          -0.062784\n",
      "acousticness         -0.240609\n",
      "instrumentalness     -0.025357\n",
      "liveness              0.040101\n",
      "valence              -0.080036\n",
      "tempo                 0.034496\n",
      "duration_in min/ms    0.203822\n",
      "time_signature        0.040053\n",
      "Class                 1.000000\n",
      "Name: Class, dtype: float64\n"
     ]
    }
   ],
   "source": [
    "correlation = train_data.corr()['Class']\n",
    "\n",
    "# Print correlation values\n",
    "print(correlation)"
   ]
  },
  {
   "cell_type": "code",
   "execution_count": 32,
   "metadata": {
    "id": "E5AOkSsVqj2N"
   },
   "outputs": [],
   "source": [
    "train_data = train_data.drop(['Artist Name','Track Name'],axis=1)"
   ]
  },
  {
   "cell_type": "code",
   "execution_count": null,
   "metadata": {},
   "outputs": [],
   "source": []
  },
  {
   "cell_type": "code",
   "execution_count": 33,
   "metadata": {
    "colab": {
     "base_uri": "https://localhost:8080/",
     "height": 288
    },
    "id": "83Fb0I_vwILC",
    "outputId": "2e5f28c8-ff0f-4e9f-a2fc-6d106273ffbe"
   },
   "outputs": [
    {
     "data": {
      "text/html": [
       "<div>\n",
       "<style scoped>\n",
       "    .dataframe tbody tr th:only-of-type {\n",
       "        vertical-align: middle;\n",
       "    }\n",
       "\n",
       "    .dataframe tbody tr th {\n",
       "        vertical-align: top;\n",
       "    }\n",
       "\n",
       "    .dataframe thead th {\n",
       "        text-align: right;\n",
       "    }\n",
       "</style>\n",
       "<table border=\"1\" class=\"dataframe\">\n",
       "  <thead>\n",
       "    <tr style=\"text-align: right;\">\n",
       "      <th></th>\n",
       "      <th>Popularity</th>\n",
       "      <th>danceability</th>\n",
       "      <th>energy</th>\n",
       "      <th>key</th>\n",
       "      <th>loudness</th>\n",
       "      <th>mode</th>\n",
       "      <th>speechiness</th>\n",
       "      <th>acousticness</th>\n",
       "      <th>instrumentalness</th>\n",
       "      <th>liveness</th>\n",
       "      <th>valence</th>\n",
       "      <th>tempo</th>\n",
       "      <th>duration_in min/ms</th>\n",
       "      <th>time_signature</th>\n",
       "      <th>Class</th>\n",
       "    </tr>\n",
       "  </thead>\n",
       "  <tbody>\n",
       "    <tr>\n",
       "      <th>0</th>\n",
       "      <td>37.000000</td>\n",
       "      <td>0.334</td>\n",
       "      <td>0.536</td>\n",
       "      <td>9.000000</td>\n",
       "      <td>-6.649</td>\n",
       "      <td>0</td>\n",
       "      <td>0.0381</td>\n",
       "      <td>0.378000</td>\n",
       "      <td>0.178129</td>\n",
       "      <td>0.106</td>\n",
       "      <td>0.235</td>\n",
       "      <td>152.429</td>\n",
       "      <td>204947.0</td>\n",
       "      <td>4</td>\n",
       "      <td>9</td>\n",
       "    </tr>\n",
       "    <tr>\n",
       "      <th>1</th>\n",
       "      <td>67.000000</td>\n",
       "      <td>0.725</td>\n",
       "      <td>0.747</td>\n",
       "      <td>11.000000</td>\n",
       "      <td>-5.545</td>\n",
       "      <td>1</td>\n",
       "      <td>0.0876</td>\n",
       "      <td>0.027200</td>\n",
       "      <td>0.046800</td>\n",
       "      <td>0.104</td>\n",
       "      <td>0.380</td>\n",
       "      <td>132.921</td>\n",
       "      <td>191956.0</td>\n",
       "      <td>4</td>\n",
       "      <td>6</td>\n",
       "    </tr>\n",
       "    <tr>\n",
       "      <th>2</th>\n",
       "      <td>44.525208</td>\n",
       "      <td>0.584</td>\n",
       "      <td>0.804</td>\n",
       "      <td>7.000000</td>\n",
       "      <td>-6.094</td>\n",
       "      <td>1</td>\n",
       "      <td>0.0619</td>\n",
       "      <td>0.000968</td>\n",
       "      <td>0.635000</td>\n",
       "      <td>0.284</td>\n",
       "      <td>0.635</td>\n",
       "      <td>159.953</td>\n",
       "      <td>161037.0</td>\n",
       "      <td>4</td>\n",
       "      <td>10</td>\n",
       "    </tr>\n",
       "    <tr>\n",
       "      <th>3</th>\n",
       "      <td>12.000000</td>\n",
       "      <td>0.515</td>\n",
       "      <td>0.308</td>\n",
       "      <td>5.953781</td>\n",
       "      <td>-14.711</td>\n",
       "      <td>1</td>\n",
       "      <td>0.0312</td>\n",
       "      <td>0.907000</td>\n",
       "      <td>0.021300</td>\n",
       "      <td>0.300</td>\n",
       "      <td>0.501</td>\n",
       "      <td>172.472</td>\n",
       "      <td>298093.0</td>\n",
       "      <td>3</td>\n",
       "      <td>2</td>\n",
       "    </tr>\n",
       "    <tr>\n",
       "      <th>4</th>\n",
       "      <td>48.000000</td>\n",
       "      <td>0.565</td>\n",
       "      <td>0.777</td>\n",
       "      <td>6.000000</td>\n",
       "      <td>-5.096</td>\n",
       "      <td>0</td>\n",
       "      <td>0.2490</td>\n",
       "      <td>0.183000</td>\n",
       "      <td>0.178129</td>\n",
       "      <td>0.211</td>\n",
       "      <td>0.619</td>\n",
       "      <td>88.311</td>\n",
       "      <td>254145.0</td>\n",
       "      <td>4</td>\n",
       "      <td>5</td>\n",
       "    </tr>\n",
       "  </tbody>\n",
       "</table>\n",
       "</div>"
      ],
      "text/plain": [
       "   Popularity  danceability  energy        key  loudness  mode  speechiness  \\\n",
       "0   37.000000         0.334   0.536   9.000000    -6.649     0       0.0381   \n",
       "1   67.000000         0.725   0.747  11.000000    -5.545     1       0.0876   \n",
       "2   44.525208         0.584   0.804   7.000000    -6.094     1       0.0619   \n",
       "3   12.000000         0.515   0.308   5.953781   -14.711     1       0.0312   \n",
       "4   48.000000         0.565   0.777   6.000000    -5.096     0       0.2490   \n",
       "\n",
       "   acousticness  instrumentalness  liveness  valence    tempo  \\\n",
       "0      0.378000          0.178129     0.106    0.235  152.429   \n",
       "1      0.027200          0.046800     0.104    0.380  132.921   \n",
       "2      0.000968          0.635000     0.284    0.635  159.953   \n",
       "3      0.907000          0.021300     0.300    0.501  172.472   \n",
       "4      0.183000          0.178129     0.211    0.619   88.311   \n",
       "\n",
       "   duration_in min/ms  time_signature  Class  \n",
       "0            204947.0               4      9  \n",
       "1            191956.0               4      6  \n",
       "2            161037.0               4     10  \n",
       "3            298093.0               3      2  \n",
       "4            254145.0               4      5  "
      ]
     },
     "execution_count": 33,
     "metadata": {},
     "output_type": "execute_result"
    }
   ],
   "source": [
    "train_data.head()"
   ]
  },
  {
   "cell_type": "code",
   "execution_count": 34,
   "metadata": {
    "colab": {
     "base_uri": "https://localhost:8080/",
     "height": 288
    },
    "id": "IWF_WawsxzwI",
    "outputId": "1b62b124-9ebf-4e7f-d5b8-08fb27a82467"
   },
   "outputs": [
    {
     "data": {
      "text/html": [
       "<div>\n",
       "<style scoped>\n",
       "    .dataframe tbody tr th:only-of-type {\n",
       "        vertical-align: middle;\n",
       "    }\n",
       "\n",
       "    .dataframe tbody tr th {\n",
       "        vertical-align: top;\n",
       "    }\n",
       "\n",
       "    .dataframe thead th {\n",
       "        text-align: right;\n",
       "    }\n",
       "</style>\n",
       "<table border=\"1\" class=\"dataframe\">\n",
       "  <thead>\n",
       "    <tr style=\"text-align: right;\">\n",
       "      <th></th>\n",
       "      <th>Popularity</th>\n",
       "      <th>danceability</th>\n",
       "      <th>energy</th>\n",
       "      <th>key</th>\n",
       "      <th>loudness</th>\n",
       "      <th>mode</th>\n",
       "      <th>speechiness</th>\n",
       "      <th>acousticness</th>\n",
       "      <th>instrumentalness</th>\n",
       "      <th>liveness</th>\n",
       "      <th>valence</th>\n",
       "      <th>tempo</th>\n",
       "      <th>duration_in min/ms</th>\n",
       "      <th>time_signature</th>\n",
       "    </tr>\n",
       "  </thead>\n",
       "  <tbody>\n",
       "    <tr>\n",
       "      <th>0</th>\n",
       "      <td>37.000000</td>\n",
       "      <td>0.334</td>\n",
       "      <td>0.536</td>\n",
       "      <td>9.000000</td>\n",
       "      <td>-6.649</td>\n",
       "      <td>0</td>\n",
       "      <td>0.0381</td>\n",
       "      <td>0.378000</td>\n",
       "      <td>0.178129</td>\n",
       "      <td>0.106</td>\n",
       "      <td>0.235</td>\n",
       "      <td>152.429</td>\n",
       "      <td>204947.0</td>\n",
       "      <td>4</td>\n",
       "    </tr>\n",
       "    <tr>\n",
       "      <th>1</th>\n",
       "      <td>67.000000</td>\n",
       "      <td>0.725</td>\n",
       "      <td>0.747</td>\n",
       "      <td>11.000000</td>\n",
       "      <td>-5.545</td>\n",
       "      <td>1</td>\n",
       "      <td>0.0876</td>\n",
       "      <td>0.027200</td>\n",
       "      <td>0.046800</td>\n",
       "      <td>0.104</td>\n",
       "      <td>0.380</td>\n",
       "      <td>132.921</td>\n",
       "      <td>191956.0</td>\n",
       "      <td>4</td>\n",
       "    </tr>\n",
       "    <tr>\n",
       "      <th>2</th>\n",
       "      <td>44.525208</td>\n",
       "      <td>0.584</td>\n",
       "      <td>0.804</td>\n",
       "      <td>7.000000</td>\n",
       "      <td>-6.094</td>\n",
       "      <td>1</td>\n",
       "      <td>0.0619</td>\n",
       "      <td>0.000968</td>\n",
       "      <td>0.635000</td>\n",
       "      <td>0.284</td>\n",
       "      <td>0.635</td>\n",
       "      <td>159.953</td>\n",
       "      <td>161037.0</td>\n",
       "      <td>4</td>\n",
       "    </tr>\n",
       "    <tr>\n",
       "      <th>3</th>\n",
       "      <td>12.000000</td>\n",
       "      <td>0.515</td>\n",
       "      <td>0.308</td>\n",
       "      <td>5.953781</td>\n",
       "      <td>-14.711</td>\n",
       "      <td>1</td>\n",
       "      <td>0.0312</td>\n",
       "      <td>0.907000</td>\n",
       "      <td>0.021300</td>\n",
       "      <td>0.300</td>\n",
       "      <td>0.501</td>\n",
       "      <td>172.472</td>\n",
       "      <td>298093.0</td>\n",
       "      <td>3</td>\n",
       "    </tr>\n",
       "    <tr>\n",
       "      <th>4</th>\n",
       "      <td>48.000000</td>\n",
       "      <td>0.565</td>\n",
       "      <td>0.777</td>\n",
       "      <td>6.000000</td>\n",
       "      <td>-5.096</td>\n",
       "      <td>0</td>\n",
       "      <td>0.2490</td>\n",
       "      <td>0.183000</td>\n",
       "      <td>0.178129</td>\n",
       "      <td>0.211</td>\n",
       "      <td>0.619</td>\n",
       "      <td>88.311</td>\n",
       "      <td>254145.0</td>\n",
       "      <td>4</td>\n",
       "    </tr>\n",
       "  </tbody>\n",
       "</table>\n",
       "</div>"
      ],
      "text/plain": [
       "   Popularity  danceability  energy        key  loudness  mode  speechiness  \\\n",
       "0   37.000000         0.334   0.536   9.000000    -6.649     0       0.0381   \n",
       "1   67.000000         0.725   0.747  11.000000    -5.545     1       0.0876   \n",
       "2   44.525208         0.584   0.804   7.000000    -6.094     1       0.0619   \n",
       "3   12.000000         0.515   0.308   5.953781   -14.711     1       0.0312   \n",
       "4   48.000000         0.565   0.777   6.000000    -5.096     0       0.2490   \n",
       "\n",
       "   acousticness  instrumentalness  liveness  valence    tempo  \\\n",
       "0      0.378000          0.178129     0.106    0.235  152.429   \n",
       "1      0.027200          0.046800     0.104    0.380  132.921   \n",
       "2      0.000968          0.635000     0.284    0.635  159.953   \n",
       "3      0.907000          0.021300     0.300    0.501  172.472   \n",
       "4      0.183000          0.178129     0.211    0.619   88.311   \n",
       "\n",
       "   duration_in min/ms  time_signature  \n",
       "0            204947.0               4  \n",
       "1            191956.0               4  \n",
       "2            161037.0               4  \n",
       "3            298093.0               3  \n",
       "4            254145.0               4  "
      ]
     },
     "execution_count": 34,
     "metadata": {},
     "output_type": "execute_result"
    }
   ],
   "source": [
    "X = train_data.iloc[:,:-1]\n",
    "X.head()"
   ]
  },
  {
   "cell_type": "code",
   "execution_count": 35,
   "metadata": {},
   "outputs": [],
   "source": [
    "from sklearn.preprocessing import MinMaxScaler\n",
    "import numpy as np\n",
    "\n",
    "# assume your data is stored in a numpy array called X\n",
    "scaler = MinMaxScaler(feature_range=(0, 1)) # create the scaler object and specify the desired range\n",
    "x_features = [\"Popularity\",\"key\",\"loudness\",\"tempo\",\"duration_in min/ms\",\"time_signature\"]\n",
    "from_x = X[x_features]\n",
    "scaler.fit(from_x) \n",
    "X_scaled = scaler.transform(from_x)\n",
    "X[x_features] = X_scaled"
   ]
  },
  {
   "cell_type": "code",
   "execution_count": 36,
   "metadata": {},
   "outputs": [
    {
     "data": {
      "text/html": [
       "<div>\n",
       "<style scoped>\n",
       "    .dataframe tbody tr th:only-of-type {\n",
       "        vertical-align: middle;\n",
       "    }\n",
       "\n",
       "    .dataframe tbody tr th {\n",
       "        vertical-align: top;\n",
       "    }\n",
       "\n",
       "    .dataframe thead th {\n",
       "        text-align: right;\n",
       "    }\n",
       "</style>\n",
       "<table border=\"1\" class=\"dataframe\">\n",
       "  <thead>\n",
       "    <tr style=\"text-align: right;\">\n",
       "      <th></th>\n",
       "      <th>Popularity</th>\n",
       "      <th>danceability</th>\n",
       "      <th>energy</th>\n",
       "      <th>key</th>\n",
       "      <th>loudness</th>\n",
       "      <th>mode</th>\n",
       "      <th>speechiness</th>\n",
       "      <th>acousticness</th>\n",
       "      <th>instrumentalness</th>\n",
       "      <th>liveness</th>\n",
       "      <th>valence</th>\n",
       "      <th>tempo</th>\n",
       "      <th>duration_in min/ms</th>\n",
       "      <th>time_signature</th>\n",
       "    </tr>\n",
       "  </thead>\n",
       "  <tbody>\n",
       "    <tr>\n",
       "      <th>0</th>\n",
       "      <td>0.363636</td>\n",
       "      <td>0.334</td>\n",
       "      <td>0.536</td>\n",
       "      <td>0.800000</td>\n",
       "      <td>0.806485</td>\n",
       "      <td>0</td>\n",
       "      <td>0.0381</td>\n",
       "      <td>0.378000</td>\n",
       "      <td>0.178129</td>\n",
       "      <td>0.106</td>\n",
       "      <td>0.235</td>\n",
       "      <td>0.652214</td>\n",
       "      <td>0.138741</td>\n",
       "      <td>0.75</td>\n",
       "    </tr>\n",
       "    <tr>\n",
       "      <th>1</th>\n",
       "      <td>0.666667</td>\n",
       "      <td>0.725</td>\n",
       "      <td>0.747</td>\n",
       "      <td>1.000000</td>\n",
       "      <td>0.833220</td>\n",
       "      <td>1</td>\n",
       "      <td>0.0876</td>\n",
       "      <td>0.027200</td>\n",
       "      <td>0.046800</td>\n",
       "      <td>0.104</td>\n",
       "      <td>0.380</td>\n",
       "      <td>0.547814</td>\n",
       "      <td>0.129947</td>\n",
       "      <td>0.75</td>\n",
       "    </tr>\n",
       "    <tr>\n",
       "      <th>2</th>\n",
       "      <td>0.439649</td>\n",
       "      <td>0.584</td>\n",
       "      <td>0.804</td>\n",
       "      <td>0.600000</td>\n",
       "      <td>0.819925</td>\n",
       "      <td>1</td>\n",
       "      <td>0.0619</td>\n",
       "      <td>0.000968</td>\n",
       "      <td>0.635000</td>\n",
       "      <td>0.284</td>\n",
       "      <td>0.635</td>\n",
       "      <td>0.692479</td>\n",
       "      <td>0.109016</td>\n",
       "      <td>0.75</td>\n",
       "    </tr>\n",
       "    <tr>\n",
       "      <th>3</th>\n",
       "      <td>0.111111</td>\n",
       "      <td>0.515</td>\n",
       "      <td>0.308</td>\n",
       "      <td>0.495378</td>\n",
       "      <td>0.611251</td>\n",
       "      <td>1</td>\n",
       "      <td>0.0312</td>\n",
       "      <td>0.907000</td>\n",
       "      <td>0.021300</td>\n",
       "      <td>0.300</td>\n",
       "      <td>0.501</td>\n",
       "      <td>0.759476</td>\n",
       "      <td>0.201797</td>\n",
       "      <td>0.50</td>\n",
       "    </tr>\n",
       "    <tr>\n",
       "      <th>4</th>\n",
       "      <td>0.474747</td>\n",
       "      <td>0.565</td>\n",
       "      <td>0.777</td>\n",
       "      <td>0.500000</td>\n",
       "      <td>0.844094</td>\n",
       "      <td>0</td>\n",
       "      <td>0.2490</td>\n",
       "      <td>0.183000</td>\n",
       "      <td>0.178129</td>\n",
       "      <td>0.211</td>\n",
       "      <td>0.619</td>\n",
       "      <td>0.309078</td>\n",
       "      <td>0.172046</td>\n",
       "      <td>0.75</td>\n",
       "    </tr>\n",
       "  </tbody>\n",
       "</table>\n",
       "</div>"
      ],
      "text/plain": [
       "   Popularity  danceability  energy       key  loudness  mode  speechiness  \\\n",
       "0    0.363636         0.334   0.536  0.800000  0.806485     0       0.0381   \n",
       "1    0.666667         0.725   0.747  1.000000  0.833220     1       0.0876   \n",
       "2    0.439649         0.584   0.804  0.600000  0.819925     1       0.0619   \n",
       "3    0.111111         0.515   0.308  0.495378  0.611251     1       0.0312   \n",
       "4    0.474747         0.565   0.777  0.500000  0.844094     0       0.2490   \n",
       "\n",
       "   acousticness  instrumentalness  liveness  valence     tempo  \\\n",
       "0      0.378000          0.178129     0.106    0.235  0.652214   \n",
       "1      0.027200          0.046800     0.104    0.380  0.547814   \n",
       "2      0.000968          0.635000     0.284    0.635  0.692479   \n",
       "3      0.907000          0.021300     0.300    0.501  0.759476   \n",
       "4      0.183000          0.178129     0.211    0.619  0.309078   \n",
       "\n",
       "   duration_in min/ms  time_signature  \n",
       "0            0.138741            0.75  \n",
       "1            0.129947            0.75  \n",
       "2            0.109016            0.75  \n",
       "3            0.201797            0.50  \n",
       "4            0.172046            0.75  "
      ]
     },
     "execution_count": 36,
     "metadata": {},
     "output_type": "execute_result"
    }
   ],
   "source": [
    "X.head()"
   ]
  },
  {
   "cell_type": "code",
   "execution_count": 37,
   "metadata": {
    "colab": {
     "base_uri": "https://localhost:8080/"
    },
    "id": "MP5SBS-4yByZ",
    "outputId": "dd41a068-9c59-45a7-f90d-12872bc940f4"
   },
   "outputs": [
    {
     "data": {
      "text/plain": [
       "0     9\n",
       "1     6\n",
       "2    10\n",
       "3     2\n",
       "4     5\n",
       "Name: Class, dtype: int64"
      ]
     },
     "execution_count": 37,
     "metadata": {},
     "output_type": "execute_result"
    }
   ],
   "source": [
    "y = train_data.iloc[:,-1]\n",
    "y.head()"
   ]
  },
  {
   "cell_type": "code",
   "execution_count": 38,
   "metadata": {},
   "outputs": [
    {
     "data": {
      "text/plain": [
       "'from sklearn import svm\\nfrom sklearn.model_selection import GridSearchCV\\nfrom sklearn.metrics import accuracy_score\\n\\n# Define the parameter grid\\nparam_grid = {\\n    \\'kernel\\': [\\'linear\\', \\'rbf\\', \\'poly\\',\\'sigmoid\\',\\'precomputed\\'],\\n    \\'C\\': [0.1, 1, 10],\\n    \\'gamma\\': [0.1, 1, 10]\\n}\\n\\n# Create the SVM classifier\\nsvm_classifier = svm.SVC()\\n\\n# Perform grid search\\ngrid_search = GridSearchCV(estimator=svm_classifier, param_grid=param_grid, scoring=\\'accuracy\\', cv=5)\\ngrid_search.fit(X, y)\\n\\n# Get the best parameters and best score\\nbest_params = grid_search.best_params_\\nbest_score = grid_search.best_score_\\n\\nprint(best_params)\\nprint(best_score)\\n\\nTrain SVM with best parameters\\nbest_svm = svm.SVC(**best_params)\\nbest_svm.fit(X_train, y_train)\\n\\n# Make predictions with the best SVM\\ny_pred = best_svm.predict(X_test)\\n\\n# Calculate accuracy with the best SVM\\naccuracy = accuracy_score(y_test, y_pred)\\nprint(\"Best Accuracy:\", accuracy)\\n'"
      ]
     },
     "execution_count": 38,
     "metadata": {},
     "output_type": "execute_result"
    }
   ],
   "source": [
    "'''from sklearn import svm\n",
    "from sklearn.model_selection import GridSearchCV\n",
    "from sklearn.metrics import accuracy_score\n",
    "\n",
    "# Define the parameter grid\n",
    "param_grid = {\n",
    "    'kernel': ['linear', 'rbf', 'poly','sigmoid','precomputed'],\n",
    "    'C': [0.1, 1, 10],\n",
    "    'gamma': [0.1, 1, 10]\n",
    "}\n",
    "\n",
    "# Create the SVM classifier\n",
    "svm_classifier = svm.SVC()\n",
    "\n",
    "# Perform grid search\n",
    "grid_search = GridSearchCV(estimator=svm_classifier, param_grid=param_grid, scoring='accuracy', cv=5)\n",
    "grid_search.fit(X, y)\n",
    "\n",
    "# Get the best parameters and best score\n",
    "best_params = grid_search.best_params_\n",
    "best_score = grid_search.best_score_\n",
    "\n",
    "print(best_params)\n",
    "print(best_score)\n",
    "\n",
    "Train SVM with best parameters\n",
    "best_svm = svm.SVC(**best_params)\n",
    "best_svm.fit(X_train, y_train)\n",
    "\n",
    "# Make predictions with the best SVM\n",
    "y_pred = best_svm.predict(X_test)\n",
    "\n",
    "# Calculate accuracy with the best SVM\n",
    "accuracy = accuracy_score(y_test, y_pred)\n",
    "print(\"Best Accuracy:\", accuracy)\n",
    "'''"
   ]
  },
  {
   "cell_type": "code",
   "execution_count": 39,
   "metadata": {
    "id": "RcgEeRPzxgTU"
   },
   "outputs": [
    {
     "name": "stdout",
     "output_type": "stream",
     "text": [
      "Accuracy: 0.5090277777777777\n"
     ]
    }
   ],
   "source": [
    "from sklearn import svm\n",
    "from sklearn.model_selection import train_test_split\n",
    "from sklearn.metrics import accuracy_score\n",
    "\n",
    "\n",
    "# Split the dataset into training and testing sets\n",
    "X_train, X_test, y_train, y_test = train_test_split(X, y, test_size=0.2, random_state=42)\n",
    "\n",
    "# Create an SVM classifier\n",
    "clf = svm.SVC(kernel='rbf')\n",
    "\n",
    "# Train the classifier\n",
    "clf.fit(X_train, y_train)\n",
    "\n",
    "# Make predictions on the test set\n",
    "y_pred = clf.predict(X_test)\n",
    "\n",
    "# Calculate the accuracy of the model\n",
    "accuracy = accuracy_score(y_test, y_pred)\n",
    "print(\"Accuracy:\", accuracy)\n"
   ]
  },
  {
   "cell_type": "code",
   "execution_count": 40,
   "metadata": {},
   "outputs": [
    {
     "name": "stdout",
     "output_type": "stream",
     "text": [
      "CatBoost model is fitted: True\n",
      "CatBoost model parameters:\n",
      "{'iterations': 5, 'learning_rate': 0.1}\n"
     ]
    }
   ],
   "source": [
    "from catboost import CatBoostClassifier\n",
    "\n",
    "cb = CatBoostClassifier(\n",
    "    iterations=5, \n",
    "    learning_rate=0.1, \n",
    "    #loss_function='CrossEntropy'\n",
    ")\n",
    "\n",
    "\n",
    "cb.fit(X_train, y_train, \n",
    "        eval_set=(X_test, y_test), \n",
    "        verbose=False\n",
    ")\n",
    "\n",
    "print('CatBoost model is fitted: ' + str(cb.is_fitted()))\n",
    "print('CatBoost model parameters:')\n",
    "print(cb.get_params())\n"
   ]
  },
  {
   "cell_type": "code",
   "execution_count": 41,
   "metadata": {},
   "outputs": [
    {
     "data": {
      "text/plain": [
       "0.45380340395970825"
      ]
     },
     "execution_count": 41,
     "metadata": {},
     "output_type": "execute_result"
    }
   ],
   "source": [
    "cb.score(X_train,y_train)"
   ]
  },
  {
   "cell_type": "code",
   "execution_count": 42,
   "metadata": {},
   "outputs": [
    {
     "data": {
      "text/plain": [
       "0.4375"
      ]
     },
     "execution_count": 42,
     "metadata": {},
     "output_type": "execute_result"
    }
   ],
   "source": [
    "cb.score(X_test,y_test)"
   ]
  },
  {
   "cell_type": "code",
   "execution_count": 43,
   "metadata": {},
   "outputs": [
    {
     "name": "stdout",
     "output_type": "stream",
     "text": [
      "Accuracy: 0.4375\n"
     ]
    }
   ],
   "source": [
    "y_pred_cb = cb.predict(X_test)\n",
    "\n",
    "# Calculate the accuracy of the model\n",
    "accuracy_cb = accuracy_score(y_test, y_pred_cb)\n",
    "print(\"Accuracy:\", accuracy_cb)\n"
   ]
  },
  {
   "cell_type": "code",
   "execution_count": 44,
   "metadata": {},
   "outputs": [],
   "source": [
    "#y = y.ravel()  # Reshape to a 1-dimensional array\n"
   ]
  },
  {
   "cell_type": "code",
   "execution_count": 45,
   "metadata": {},
   "outputs": [],
   "source": [
    "#X_train.shape, X_test.shape, y_train.shape, y_test.shape"
   ]
  },
  {
   "cell_type": "code",
   "execution_count": 46,
   "metadata": {},
   "outputs": [
    {
     "data": {
      "text/plain": [
       "'from sklearn.ensemble import VotingClassifier\\nfrom sklearn.ensemble import RandomForestClassifier\\nfrom sklearn.ensemble import GradientBoostingClassifier\\nfrom sklearn.metrics import accuracy_score\\n\\n\\n# Create individual classifiers\\nrf_clf = RandomForestClassifier(n_estimators=100, random_state=42)\\ngb_clf = GradientBoostingClassifier(n_estimators=100, random_state=42)\\n\\n# Create an ensemble using VotingClassifier\\nensemble_clf = VotingClassifier(\\n    estimators=[(\\'rf\\', rf_clf), (\\'gb\\', gb_clf),(\\'cb\\',cb),(\\'svc\\',clf)],\\n    voting=\\'soft\\'  # Use majority voting\\n)\\n\\n #Fit the ensemble on the training data\\nensemble_clf.fit(X_train, y_train)\\n\\n #Make predictions on the test data\\ny_pred_votes = np.column_stack((y_pred_cb, y_pred))\\ny_pred = np.apply_along_axis(lambda x: np.argmax(np.bincount(x)), axis=1, arr=y_pred_votes)\\n\\n# Calculate the accuracy of the ensemble\\naccuracy = accuracy_score(y_test, y_pred)\\nprint(\"Accuracy:\", accuracy)\\n'"
      ]
     },
     "execution_count": 46,
     "metadata": {},
     "output_type": "execute_result"
    }
   ],
   "source": [
    "'''from sklearn.ensemble import VotingClassifier\n",
    "from sklearn.ensemble import RandomForestClassifier\n",
    "from sklearn.ensemble import GradientBoostingClassifier\n",
    "from sklearn.metrics import accuracy_score\n",
    "\n",
    "\n",
    "# Create individual classifiers\n",
    "rf_clf = RandomForestClassifier(n_estimators=100, random_state=42)\n",
    "gb_clf = GradientBoostingClassifier(n_estimators=100, random_state=42)\n",
    "\n",
    "# Create an ensemble using VotingClassifier\n",
    "ensemble_clf = VotingClassifier(\n",
    "    estimators=[('rf', rf_clf), ('gb', gb_clf),('cb',cb),('svc',clf)],\n",
    "    voting='soft'  # Use majority voting\n",
    ")\n",
    "\n",
    " #Fit the ensemble on the training data\n",
    "ensemble_clf.fit(X_train, y_train)\n",
    "\n",
    " #Make predictions on the test data\n",
    "y_pred_votes = np.column_stack((y_pred_cb, y_pred))\n",
    "y_pred = np.apply_along_axis(lambda x: np.argmax(np.bincount(x)), axis=1, arr=y_pred_votes)\n",
    "\n",
    "# Calculate the accuracy of the ensemble\n",
    "accuracy = accuracy_score(y_test, y_pred)\n",
    "print(\"Accuracy:\", accuracy)\n",
    "'''"
   ]
  },
  {
   "cell_type": "code",
   "execution_count": 47,
   "metadata": {},
   "outputs": [
    {
     "data": {
      "text/plain": [
       "'rf_clf = rf_clf.fit(X_train, y_train)\\ngb_clf = gb_clf.fit(X_train, y_train)\\ncb = cb.fit(X_train, y_train)\\nclf = clf.fit(X_train, y_train)\\nensemble_clf = ensemble_clf.fit(X_train, y_train)\\n'"
      ]
     },
     "execution_count": 47,
     "metadata": {},
     "output_type": "execute_result"
    }
   ],
   "source": [
    "'''rf_clf = rf_clf.fit(X_train, y_train)\n",
    "gb_clf = gb_clf.fit(X_train, y_train)\n",
    "cb = cb.fit(X_train, y_train)\n",
    "clf = clf.fit(X_train, y_train)\n",
    "ensemble_clf = ensemble_clf.fit(X_train, y_train)\n",
    "'''"
   ]
  },
  {
   "cell_type": "code",
   "execution_count": 48,
   "metadata": {},
   "outputs": [
    {
     "name": "stdout",
     "output_type": "stream",
     "text": [
      "Accuracy: 0.5111111111111111\n"
     ]
    }
   ],
   "source": [
    "from sklearn.ensemble import RandomForestClassifier\n",
    "rf_classifier = RandomForestClassifier(n_estimators=100, random_state=42)\n",
    "\n",
    "# Train the classifier\n",
    "rf_classifier.fit(X_train, y_train)\n",
    "\n",
    "# Make predictions on the test set\n",
    "y_pred_rf = rf_classifier.predict(X_test)\n",
    "\n",
    "# Evaluate the classifier\n",
    "accuracy_rf = accuracy_score(y_test, y_pred_rf)\n",
    "print(\"Accuracy:\", accuracy_rf)"
   ]
  },
  {
   "cell_type": "code",
   "execution_count": 49,
   "metadata": {},
   "outputs": [
    {
     "name": "stdout",
     "output_type": "stream",
     "text": [
      "Accuracy: 0.40208333333333335\n"
     ]
    }
   ],
   "source": [
    "from sklearn.neighbors import KNeighborsClassifier\n",
    "knn_classifier = KNeighborsClassifier(n_neighbors=5)\n",
    "\n",
    "# Train the classifier\n",
    "knn_classifier.fit(X_train, y_train)\n",
    "\n",
    "# Make predictions on the test set\n",
    "y_pred_knn = knn_classifier.predict(X_test)\n",
    "\n",
    "# Evaluate the classifier\n",
    "accuracy_knn = accuracy_score(y_test, y_pred_knn)\n",
    "print(\"Accuracy:\", accuracy_knn)"
   ]
  },
  {
   "cell_type": "code",
   "execution_count": 50,
   "metadata": {},
   "outputs": [
    {
     "name": "stdout",
     "output_type": "stream",
     "text": [
      "Accuracy: 0.3684027777777778\n"
     ]
    }
   ],
   "source": [
    "from sklearn.tree import DecisionTreeClassifier\n",
    "dt_classifier = DecisionTreeClassifier(random_state=42)\n",
    "\n",
    "# Train the classifier\n",
    "dt_classifier.fit(X_train, y_train)\n",
    "\n",
    "# Make predictions on the test set\n",
    "y_pred_dt = dt_classifier.predict(X_test)\n",
    "\n",
    "# Evaluate the classifier\n",
    "accuracy_dt = accuracy_score(y_test, y_pred_dt)\n",
    "print(\"Accuracy:\", accuracy_dt)"
   ]
  },
  {
   "cell_type": "code",
   "execution_count": 51,
   "metadata": {},
   "outputs": [
    {
     "name": "stdout",
     "output_type": "stream",
     "text": [
      "Accuracy: 0.4829861111111111\n"
     ]
    },
    {
     "name": "stderr",
     "output_type": "stream",
     "text": [
      "C:\\Users\\JCC\\anaconda3\\lib\\site-packages\\sklearn\\linear_model\\_logistic.py:763: ConvergenceWarning: lbfgs failed to converge (status=1):\n",
      "STOP: TOTAL NO. of ITERATIONS REACHED LIMIT.\n",
      "\n",
      "Increase the number of iterations (max_iter) or scale the data as shown in:\n",
      "    https://scikit-learn.org/stable/modules/preprocessing.html\n",
      "Please also refer to the documentation for alternative solver options:\n",
      "    https://scikit-learn.org/stable/modules/linear_model.html#logistic-regression\n",
      "  n_iter_i = _check_optimize_result(\n"
     ]
    }
   ],
   "source": [
    "from sklearn.linear_model import LogisticRegression\n",
    "lr_classifier = LogisticRegression(random_state=42)\n",
    "\n",
    "# Train the classifier\n",
    "lr_classifier.fit(X_train, y_train)\n",
    "\n",
    "# Make predictions on the test set\n",
    "y_pred_lr = lr_classifier.predict(X_test)\n",
    "\n",
    "# Evaluate the classifier\n",
    "accuracy_lr = accuracy_score(y_test, y_pred_lr)\n",
    "print(\"Accuracy:\", accuracy_lr)"
   ]
  },
  {
   "cell_type": "code",
   "execution_count": 72,
   "metadata": {},
   "outputs": [
    {
     "name": "stdout",
     "output_type": "stream",
     "text": [
      "Accuracy: 0.45729166666666665\n"
     ]
    }
   ],
   "source": [
    "from sklearn.naive_bayes import GaussianNB\n",
    "nb_classifier = GaussianNB()\n",
    "\n",
    "# Train the classifier\n",
    "nb_classifier.fit(X_train, y_train)\n",
    "\n",
    "# Make predictions on the test set\n",
    "y_pred_nb = nb_classifier.predict(X_test)\n",
    "\n",
    "# Evaluate the classifier\n",
    "accuracy_nb = accuracy_score(y_test, y_pred_nb)\n",
    "print(\"Accuracy:\", accuracy_nb)"
   ]
  },
  {
   "cell_type": "code",
   "execution_count": 73,
   "metadata": {},
   "outputs": [
    {
     "name": "stdout",
     "output_type": "stream",
     "text": [
      "Accuracy: 0.5447916666666667\n"
     ]
    }
   ],
   "source": [
    "from sklearn.ensemble import GradientBoostingClassifier\n",
    "gb_classifier = GradientBoostingClassifier(random_state=42)\n",
    "\n",
    "# Train the classifier\n",
    "gb_classifier.fit(X_train, y_train)\n",
    "\n",
    "# Make predictions on the test set\n",
    "y_pred_gb = gb_classifier.predict(X_test)\n",
    "\n",
    "# Evaluate the classifier\n",
    "accuracy_gb = accuracy_score(y_test, y_pred_gb)\n",
    "print(\"Accuracy:\", accuracy_gb)"
   ]
  },
  {
   "cell_type": "code",
   "execution_count": 52,
   "metadata": {},
   "outputs": [
    {
     "data": {
      "text/html": [
       "<div>\n",
       "<style scoped>\n",
       "    .dataframe tbody tr th:only-of-type {\n",
       "        vertical-align: middle;\n",
       "    }\n",
       "\n",
       "    .dataframe tbody tr th {\n",
       "        vertical-align: top;\n",
       "    }\n",
       "\n",
       "    .dataframe thead th {\n",
       "        text-align: right;\n",
       "    }\n",
       "</style>\n",
       "<table border=\"1\" class=\"dataframe\">\n",
       "  <thead>\n",
       "    <tr style=\"text-align: right;\">\n",
       "      <th></th>\n",
       "      <th>Id</th>\n",
       "      <th>Artist Name</th>\n",
       "      <th>Track Name</th>\n",
       "      <th>Popularity</th>\n",
       "      <th>danceability</th>\n",
       "      <th>energy</th>\n",
       "      <th>key</th>\n",
       "      <th>loudness</th>\n",
       "      <th>mode</th>\n",
       "      <th>speechiness</th>\n",
       "      <th>acousticness</th>\n",
       "      <th>instrumentalness</th>\n",
       "      <th>liveness</th>\n",
       "      <th>valence</th>\n",
       "      <th>tempo</th>\n",
       "      <th>duration_in min/ms</th>\n",
       "      <th>time_signature</th>\n",
       "    </tr>\n",
       "  </thead>\n",
       "  <tbody>\n",
       "    <tr>\n",
       "      <th>0</th>\n",
       "      <td>14397</td>\n",
       "      <td>Juan Pablo Vega</td>\n",
       "      <td>Matando (feat. Vic Mirallas)</td>\n",
       "      <td>NaN</td>\n",
       "      <td>0.691</td>\n",
       "      <td>0.670</td>\n",
       "      <td>2.0</td>\n",
       "      <td>-7.093</td>\n",
       "      <td>0</td>\n",
       "      <td>0.0941</td>\n",
       "      <td>0.075700</td>\n",
       "      <td>0.035200</td>\n",
       "      <td>0.1970</td>\n",
       "      <td>0.635</td>\n",
       "      <td>89.965</td>\n",
       "      <td>200000.0</td>\n",
       "      <td>4</td>\n",
       "    </tr>\n",
       "    <tr>\n",
       "      <th>1</th>\n",
       "      <td>14398</td>\n",
       "      <td>Kappi Kat</td>\n",
       "      <td>Baarish</td>\n",
       "      <td>14.0</td>\n",
       "      <td>0.461</td>\n",
       "      <td>0.777</td>\n",
       "      <td>2.0</td>\n",
       "      <td>-7.469</td>\n",
       "      <td>1</td>\n",
       "      <td>0.0306</td>\n",
       "      <td>0.388000</td>\n",
       "      <td>0.923000</td>\n",
       "      <td>0.2910</td>\n",
       "      <td>0.525</td>\n",
       "      <td>163.043</td>\n",
       "      <td>283909.0</td>\n",
       "      <td>4</td>\n",
       "    </tr>\n",
       "    <tr>\n",
       "      <th>2</th>\n",
       "      <td>14399</td>\n",
       "      <td>Plain White T's</td>\n",
       "      <td>Hey There Delilah</td>\n",
       "      <td>80.0</td>\n",
       "      <td>0.656</td>\n",
       "      <td>0.291</td>\n",
       "      <td>2.0</td>\n",
       "      <td>-10.572</td>\n",
       "      <td>1</td>\n",
       "      <td>0.0293</td>\n",
       "      <td>0.872000</td>\n",
       "      <td>NaN</td>\n",
       "      <td>0.1140</td>\n",
       "      <td>0.298</td>\n",
       "      <td>103.971</td>\n",
       "      <td>232533.0</td>\n",
       "      <td>4</td>\n",
       "    </tr>\n",
       "    <tr>\n",
       "      <th>3</th>\n",
       "      <td>14400</td>\n",
       "      <td>WALK THE MOON</td>\n",
       "      <td>Different Colors</td>\n",
       "      <td>52.0</td>\n",
       "      <td>0.480</td>\n",
       "      <td>0.826</td>\n",
       "      <td>NaN</td>\n",
       "      <td>-4.602</td>\n",
       "      <td>1</td>\n",
       "      <td>0.0397</td>\n",
       "      <td>0.000797</td>\n",
       "      <td>0.000001</td>\n",
       "      <td>0.1250</td>\n",
       "      <td>0.687</td>\n",
       "      <td>96.000</td>\n",
       "      <td>222053.0</td>\n",
       "      <td>4</td>\n",
       "    </tr>\n",
       "    <tr>\n",
       "      <th>4</th>\n",
       "      <td>14401</td>\n",
       "      <td>Peled</td>\n",
       "      <td>◊ß◊®◊ô◊ñ</td>\n",
       "      <td>23.0</td>\n",
       "      <td>0.734</td>\n",
       "      <td>0.729</td>\n",
       "      <td>1.0</td>\n",
       "      <td>-6.381</td>\n",
       "      <td>0</td>\n",
       "      <td>0.2830</td>\n",
       "      <td>0.147000</td>\n",
       "      <td>NaN</td>\n",
       "      <td>0.0672</td>\n",
       "      <td>0.805</td>\n",
       "      <td>76.030</td>\n",
       "      <td>118439.0</td>\n",
       "      <td>4</td>\n",
       "    </tr>\n",
       "  </tbody>\n",
       "</table>\n",
       "</div>"
      ],
      "text/plain": [
       "      Id      Artist Name                    Track Name  Popularity  \\\n",
       "0  14397  Juan Pablo Vega  Matando (feat. Vic Mirallas)         NaN   \n",
       "1  14398        Kappi Kat                       Baarish        14.0   \n",
       "2  14399  Plain White T's             Hey There Delilah        80.0   \n",
       "3  14400    WALK THE MOON              Different Colors        52.0   \n",
       "4  14401            Peled                      ◊ß◊®◊ô◊ñ        23.0   \n",
       "\n",
       "   danceability  energy  key  loudness  mode  speechiness  acousticness  \\\n",
       "0         0.691   0.670  2.0    -7.093     0       0.0941      0.075700   \n",
       "1         0.461   0.777  2.0    -7.469     1       0.0306      0.388000   \n",
       "2         0.656   0.291  2.0   -10.572     1       0.0293      0.872000   \n",
       "3         0.480   0.826  NaN    -4.602     1       0.0397      0.000797   \n",
       "4         0.734   0.729  1.0    -6.381     0       0.2830      0.147000   \n",
       "\n",
       "   instrumentalness  liveness  valence    tempo  duration_in min/ms  \\\n",
       "0          0.035200    0.1970    0.635   89.965            200000.0   \n",
       "1          0.923000    0.2910    0.525  163.043            283909.0   \n",
       "2               NaN    0.1140    0.298  103.971            232533.0   \n",
       "3          0.000001    0.1250    0.687   96.000            222053.0   \n",
       "4               NaN    0.0672    0.805   76.030            118439.0   \n",
       "\n",
       "   time_signature  \n",
       "0               4  \n",
       "1               4  \n",
       "2               4  \n",
       "3               4  \n",
       "4               4  "
      ]
     },
     "execution_count": 52,
     "metadata": {},
     "output_type": "execute_result"
    }
   ],
   "source": [
    "test_data.head()"
   ]
  },
  {
   "cell_type": "code",
   "execution_count": 53,
   "metadata": {},
   "outputs": [
    {
     "data": {
      "text/plain": [
       "Id                      0\n",
       "Artist Name             0\n",
       "Track Name              0\n",
       "Popularity             95\n",
       "danceability            0\n",
       "energy                  0\n",
       "key                   405\n",
       "loudness                0\n",
       "mode                    0\n",
       "speechiness             0\n",
       "acousticness            0\n",
       "instrumentalness      836\n",
       "liveness                0\n",
       "valence                 0\n",
       "tempo                   0\n",
       "duration_in min/ms      0\n",
       "time_signature          0\n",
       "dtype: int64"
      ]
     },
     "execution_count": 53,
     "metadata": {},
     "output_type": "execute_result"
    }
   ],
   "source": [
    "test_data.isnull().sum()"
   ]
  },
  {
   "cell_type": "code",
   "execution_count": 54,
   "metadata": {},
   "outputs": [],
   "source": [
    "values = {\"Popularity\": train_data[\"Popularity\"].mean(), \"key\": train_data[\"key\"].mean(), \"instrumentalness\": train_data[\"instrumentalness\"].mean()}\n",
    "test_data = test_data.fillna(value=values)"
   ]
  },
  {
   "cell_type": "code",
   "execution_count": 55,
   "metadata": {},
   "outputs": [
    {
     "data": {
      "text/html": [
       "<div>\n",
       "<style scoped>\n",
       "    .dataframe tbody tr th:only-of-type {\n",
       "        vertical-align: middle;\n",
       "    }\n",
       "\n",
       "    .dataframe tbody tr th {\n",
       "        vertical-align: top;\n",
       "    }\n",
       "\n",
       "    .dataframe thead th {\n",
       "        text-align: right;\n",
       "    }\n",
       "</style>\n",
       "<table border=\"1\" class=\"dataframe\">\n",
       "  <thead>\n",
       "    <tr style=\"text-align: right;\">\n",
       "      <th></th>\n",
       "      <th>Id</th>\n",
       "      <th>Artist Name</th>\n",
       "      <th>Track Name</th>\n",
       "      <th>Popularity</th>\n",
       "      <th>danceability</th>\n",
       "      <th>energy</th>\n",
       "      <th>key</th>\n",
       "      <th>loudness</th>\n",
       "      <th>mode</th>\n",
       "      <th>speechiness</th>\n",
       "      <th>acousticness</th>\n",
       "      <th>instrumentalness</th>\n",
       "      <th>liveness</th>\n",
       "      <th>valence</th>\n",
       "      <th>tempo</th>\n",
       "      <th>duration_in min/ms</th>\n",
       "      <th>time_signature</th>\n",
       "    </tr>\n",
       "  </thead>\n",
       "  <tbody>\n",
       "    <tr>\n",
       "      <th>0</th>\n",
       "      <td>14397</td>\n",
       "      <td>Juan Pablo Vega</td>\n",
       "      <td>Matando (feat. Vic Mirallas)</td>\n",
       "      <td>44.525208</td>\n",
       "      <td>0.691</td>\n",
       "      <td>0.670</td>\n",
       "      <td>2.000000</td>\n",
       "      <td>-7.093</td>\n",
       "      <td>0</td>\n",
       "      <td>0.0941</td>\n",
       "      <td>0.075700</td>\n",
       "      <td>0.035200</td>\n",
       "      <td>0.1970</td>\n",
       "      <td>0.635</td>\n",
       "      <td>89.965</td>\n",
       "      <td>200000.0</td>\n",
       "      <td>4</td>\n",
       "    </tr>\n",
       "    <tr>\n",
       "      <th>1</th>\n",
       "      <td>14398</td>\n",
       "      <td>Kappi Kat</td>\n",
       "      <td>Baarish</td>\n",
       "      <td>14.000000</td>\n",
       "      <td>0.461</td>\n",
       "      <td>0.777</td>\n",
       "      <td>2.000000</td>\n",
       "      <td>-7.469</td>\n",
       "      <td>1</td>\n",
       "      <td>0.0306</td>\n",
       "      <td>0.388000</td>\n",
       "      <td>0.923000</td>\n",
       "      <td>0.2910</td>\n",
       "      <td>0.525</td>\n",
       "      <td>163.043</td>\n",
       "      <td>283909.0</td>\n",
       "      <td>4</td>\n",
       "    </tr>\n",
       "    <tr>\n",
       "      <th>2</th>\n",
       "      <td>14399</td>\n",
       "      <td>Plain White T's</td>\n",
       "      <td>Hey There Delilah</td>\n",
       "      <td>80.000000</td>\n",
       "      <td>0.656</td>\n",
       "      <td>0.291</td>\n",
       "      <td>2.000000</td>\n",
       "      <td>-10.572</td>\n",
       "      <td>1</td>\n",
       "      <td>0.0293</td>\n",
       "      <td>0.872000</td>\n",
       "      <td>0.178129</td>\n",
       "      <td>0.1140</td>\n",
       "      <td>0.298</td>\n",
       "      <td>103.971</td>\n",
       "      <td>232533.0</td>\n",
       "      <td>4</td>\n",
       "    </tr>\n",
       "    <tr>\n",
       "      <th>3</th>\n",
       "      <td>14400</td>\n",
       "      <td>WALK THE MOON</td>\n",
       "      <td>Different Colors</td>\n",
       "      <td>52.000000</td>\n",
       "      <td>0.480</td>\n",
       "      <td>0.826</td>\n",
       "      <td>5.953781</td>\n",
       "      <td>-4.602</td>\n",
       "      <td>1</td>\n",
       "      <td>0.0397</td>\n",
       "      <td>0.000797</td>\n",
       "      <td>0.000001</td>\n",
       "      <td>0.1250</td>\n",
       "      <td>0.687</td>\n",
       "      <td>96.000</td>\n",
       "      <td>222053.0</td>\n",
       "      <td>4</td>\n",
       "    </tr>\n",
       "    <tr>\n",
       "      <th>4</th>\n",
       "      <td>14401</td>\n",
       "      <td>Peled</td>\n",
       "      <td>◊ß◊®◊ô◊ñ</td>\n",
       "      <td>23.000000</td>\n",
       "      <td>0.734</td>\n",
       "      <td>0.729</td>\n",
       "      <td>1.000000</td>\n",
       "      <td>-6.381</td>\n",
       "      <td>0</td>\n",
       "      <td>0.2830</td>\n",
       "      <td>0.147000</td>\n",
       "      <td>0.178129</td>\n",
       "      <td>0.0672</td>\n",
       "      <td>0.805</td>\n",
       "      <td>76.030</td>\n",
       "      <td>118439.0</td>\n",
       "      <td>4</td>\n",
       "    </tr>\n",
       "  </tbody>\n",
       "</table>\n",
       "</div>"
      ],
      "text/plain": [
       "      Id      Artist Name                    Track Name  Popularity  \\\n",
       "0  14397  Juan Pablo Vega  Matando (feat. Vic Mirallas)   44.525208   \n",
       "1  14398        Kappi Kat                       Baarish   14.000000   \n",
       "2  14399  Plain White T's             Hey There Delilah   80.000000   \n",
       "3  14400    WALK THE MOON              Different Colors   52.000000   \n",
       "4  14401            Peled                      ◊ß◊®◊ô◊ñ   23.000000   \n",
       "\n",
       "   danceability  energy       key  loudness  mode  speechiness  acousticness  \\\n",
       "0         0.691   0.670  2.000000    -7.093     0       0.0941      0.075700   \n",
       "1         0.461   0.777  2.000000    -7.469     1       0.0306      0.388000   \n",
       "2         0.656   0.291  2.000000   -10.572     1       0.0293      0.872000   \n",
       "3         0.480   0.826  5.953781    -4.602     1       0.0397      0.000797   \n",
       "4         0.734   0.729  1.000000    -6.381     0       0.2830      0.147000   \n",
       "\n",
       "   instrumentalness  liveness  valence    tempo  duration_in min/ms  \\\n",
       "0          0.035200    0.1970    0.635   89.965            200000.0   \n",
       "1          0.923000    0.2910    0.525  163.043            283909.0   \n",
       "2          0.178129    0.1140    0.298  103.971            232533.0   \n",
       "3          0.000001    0.1250    0.687   96.000            222053.0   \n",
       "4          0.178129    0.0672    0.805   76.030            118439.0   \n",
       "\n",
       "   time_signature  \n",
       "0               4  \n",
       "1               4  \n",
       "2               4  \n",
       "3               4  \n",
       "4               4  "
      ]
     },
     "execution_count": 55,
     "metadata": {},
     "output_type": "execute_result"
    }
   ],
   "source": [
    "test_data.head()"
   ]
  },
  {
   "cell_type": "code",
   "execution_count": 56,
   "metadata": {},
   "outputs": [],
   "source": [
    "test_data = test_data.drop(\"Id\",axis = 1)"
   ]
  },
  {
   "cell_type": "code",
   "execution_count": 57,
   "metadata": {},
   "outputs": [
    {
     "data": {
      "text/html": [
       "<div>\n",
       "<style scoped>\n",
       "    .dataframe tbody tr th:only-of-type {\n",
       "        vertical-align: middle;\n",
       "    }\n",
       "\n",
       "    .dataframe tbody tr th {\n",
       "        vertical-align: top;\n",
       "    }\n",
       "\n",
       "    .dataframe thead th {\n",
       "        text-align: right;\n",
       "    }\n",
       "</style>\n",
       "<table border=\"1\" class=\"dataframe\">\n",
       "  <thead>\n",
       "    <tr style=\"text-align: right;\">\n",
       "      <th></th>\n",
       "      <th>Artist Name</th>\n",
       "      <th>Track Name</th>\n",
       "      <th>Popularity</th>\n",
       "      <th>danceability</th>\n",
       "      <th>energy</th>\n",
       "      <th>key</th>\n",
       "      <th>loudness</th>\n",
       "      <th>mode</th>\n",
       "      <th>speechiness</th>\n",
       "      <th>acousticness</th>\n",
       "      <th>instrumentalness</th>\n",
       "      <th>liveness</th>\n",
       "      <th>valence</th>\n",
       "      <th>tempo</th>\n",
       "      <th>duration_in min/ms</th>\n",
       "      <th>time_signature</th>\n",
       "    </tr>\n",
       "  </thead>\n",
       "  <tbody>\n",
       "    <tr>\n",
       "      <th>0</th>\n",
       "      <td>Juan Pablo Vega</td>\n",
       "      <td>Matando (feat. Vic Mirallas)</td>\n",
       "      <td>44.525208</td>\n",
       "      <td>0.691</td>\n",
       "      <td>0.670</td>\n",
       "      <td>2.000000</td>\n",
       "      <td>-7.093</td>\n",
       "      <td>0</td>\n",
       "      <td>0.0941</td>\n",
       "      <td>0.075700</td>\n",
       "      <td>0.035200</td>\n",
       "      <td>0.1970</td>\n",
       "      <td>0.635</td>\n",
       "      <td>89.965</td>\n",
       "      <td>200000.0</td>\n",
       "      <td>4</td>\n",
       "    </tr>\n",
       "    <tr>\n",
       "      <th>1</th>\n",
       "      <td>Kappi Kat</td>\n",
       "      <td>Baarish</td>\n",
       "      <td>14.000000</td>\n",
       "      <td>0.461</td>\n",
       "      <td>0.777</td>\n",
       "      <td>2.000000</td>\n",
       "      <td>-7.469</td>\n",
       "      <td>1</td>\n",
       "      <td>0.0306</td>\n",
       "      <td>0.388000</td>\n",
       "      <td>0.923000</td>\n",
       "      <td>0.2910</td>\n",
       "      <td>0.525</td>\n",
       "      <td>163.043</td>\n",
       "      <td>283909.0</td>\n",
       "      <td>4</td>\n",
       "    </tr>\n",
       "    <tr>\n",
       "      <th>2</th>\n",
       "      <td>Plain White T's</td>\n",
       "      <td>Hey There Delilah</td>\n",
       "      <td>80.000000</td>\n",
       "      <td>0.656</td>\n",
       "      <td>0.291</td>\n",
       "      <td>2.000000</td>\n",
       "      <td>-10.572</td>\n",
       "      <td>1</td>\n",
       "      <td>0.0293</td>\n",
       "      <td>0.872000</td>\n",
       "      <td>0.178129</td>\n",
       "      <td>0.1140</td>\n",
       "      <td>0.298</td>\n",
       "      <td>103.971</td>\n",
       "      <td>232533.0</td>\n",
       "      <td>4</td>\n",
       "    </tr>\n",
       "    <tr>\n",
       "      <th>3</th>\n",
       "      <td>WALK THE MOON</td>\n",
       "      <td>Different Colors</td>\n",
       "      <td>52.000000</td>\n",
       "      <td>0.480</td>\n",
       "      <td>0.826</td>\n",
       "      <td>5.953781</td>\n",
       "      <td>-4.602</td>\n",
       "      <td>1</td>\n",
       "      <td>0.0397</td>\n",
       "      <td>0.000797</td>\n",
       "      <td>0.000001</td>\n",
       "      <td>0.1250</td>\n",
       "      <td>0.687</td>\n",
       "      <td>96.000</td>\n",
       "      <td>222053.0</td>\n",
       "      <td>4</td>\n",
       "    </tr>\n",
       "    <tr>\n",
       "      <th>4</th>\n",
       "      <td>Peled</td>\n",
       "      <td>◊ß◊®◊ô◊ñ</td>\n",
       "      <td>23.000000</td>\n",
       "      <td>0.734</td>\n",
       "      <td>0.729</td>\n",
       "      <td>1.000000</td>\n",
       "      <td>-6.381</td>\n",
       "      <td>0</td>\n",
       "      <td>0.2830</td>\n",
       "      <td>0.147000</td>\n",
       "      <td>0.178129</td>\n",
       "      <td>0.0672</td>\n",
       "      <td>0.805</td>\n",
       "      <td>76.030</td>\n",
       "      <td>118439.0</td>\n",
       "      <td>4</td>\n",
       "    </tr>\n",
       "  </tbody>\n",
       "</table>\n",
       "</div>"
      ],
      "text/plain": [
       "       Artist Name                    Track Name  Popularity  danceability  \\\n",
       "0  Juan Pablo Vega  Matando (feat. Vic Mirallas)   44.525208         0.691   \n",
       "1        Kappi Kat                       Baarish   14.000000         0.461   \n",
       "2  Plain White T's             Hey There Delilah   80.000000         0.656   \n",
       "3    WALK THE MOON              Different Colors   52.000000         0.480   \n",
       "4            Peled                      ◊ß◊®◊ô◊ñ   23.000000         0.734   \n",
       "\n",
       "   energy       key  loudness  mode  speechiness  acousticness  \\\n",
       "0   0.670  2.000000    -7.093     0       0.0941      0.075700   \n",
       "1   0.777  2.000000    -7.469     1       0.0306      0.388000   \n",
       "2   0.291  2.000000   -10.572     1       0.0293      0.872000   \n",
       "3   0.826  5.953781    -4.602     1       0.0397      0.000797   \n",
       "4   0.729  1.000000    -6.381     0       0.2830      0.147000   \n",
       "\n",
       "   instrumentalness  liveness  valence    tempo  duration_in min/ms  \\\n",
       "0          0.035200    0.1970    0.635   89.965            200000.0   \n",
       "1          0.923000    0.2910    0.525  163.043            283909.0   \n",
       "2          0.178129    0.1140    0.298  103.971            232533.0   \n",
       "3          0.000001    0.1250    0.687   96.000            222053.0   \n",
       "4          0.178129    0.0672    0.805   76.030            118439.0   \n",
       "\n",
       "   time_signature  \n",
       "0               4  \n",
       "1               4  \n",
       "2               4  \n",
       "3               4  \n",
       "4               4  "
      ]
     },
     "execution_count": 57,
     "metadata": {},
     "output_type": "execute_result"
    }
   ],
   "source": [
    "test_data.head()"
   ]
  },
  {
   "cell_type": "code",
   "execution_count": 58,
   "metadata": {},
   "outputs": [],
   "source": [
    "test_data = test_data.drop(['Artist Name','Track Name'],axis=1)"
   ]
  },
  {
   "cell_type": "code",
   "execution_count": 59,
   "metadata": {},
   "outputs": [
    {
     "data": {
      "text/html": [
       "<div>\n",
       "<style scoped>\n",
       "    .dataframe tbody tr th:only-of-type {\n",
       "        vertical-align: middle;\n",
       "    }\n",
       "\n",
       "    .dataframe tbody tr th {\n",
       "        vertical-align: top;\n",
       "    }\n",
       "\n",
       "    .dataframe thead th {\n",
       "        text-align: right;\n",
       "    }\n",
       "</style>\n",
       "<table border=\"1\" class=\"dataframe\">\n",
       "  <thead>\n",
       "    <tr style=\"text-align: right;\">\n",
       "      <th></th>\n",
       "      <th>Popularity</th>\n",
       "      <th>danceability</th>\n",
       "      <th>energy</th>\n",
       "      <th>key</th>\n",
       "      <th>loudness</th>\n",
       "      <th>mode</th>\n",
       "      <th>speechiness</th>\n",
       "      <th>acousticness</th>\n",
       "      <th>instrumentalness</th>\n",
       "      <th>liveness</th>\n",
       "      <th>valence</th>\n",
       "      <th>tempo</th>\n",
       "      <th>duration_in min/ms</th>\n",
       "      <th>time_signature</th>\n",
       "    </tr>\n",
       "  </thead>\n",
       "  <tbody>\n",
       "    <tr>\n",
       "      <th>0</th>\n",
       "      <td>44.525208</td>\n",
       "      <td>0.691</td>\n",
       "      <td>0.670</td>\n",
       "      <td>2.000000</td>\n",
       "      <td>-7.093</td>\n",
       "      <td>0</td>\n",
       "      <td>0.0941</td>\n",
       "      <td>0.075700</td>\n",
       "      <td>0.035200</td>\n",
       "      <td>0.1970</td>\n",
       "      <td>0.635</td>\n",
       "      <td>89.965</td>\n",
       "      <td>200000.0</td>\n",
       "      <td>4</td>\n",
       "    </tr>\n",
       "    <tr>\n",
       "      <th>1</th>\n",
       "      <td>14.000000</td>\n",
       "      <td>0.461</td>\n",
       "      <td>0.777</td>\n",
       "      <td>2.000000</td>\n",
       "      <td>-7.469</td>\n",
       "      <td>1</td>\n",
       "      <td>0.0306</td>\n",
       "      <td>0.388000</td>\n",
       "      <td>0.923000</td>\n",
       "      <td>0.2910</td>\n",
       "      <td>0.525</td>\n",
       "      <td>163.043</td>\n",
       "      <td>283909.0</td>\n",
       "      <td>4</td>\n",
       "    </tr>\n",
       "    <tr>\n",
       "      <th>2</th>\n",
       "      <td>80.000000</td>\n",
       "      <td>0.656</td>\n",
       "      <td>0.291</td>\n",
       "      <td>2.000000</td>\n",
       "      <td>-10.572</td>\n",
       "      <td>1</td>\n",
       "      <td>0.0293</td>\n",
       "      <td>0.872000</td>\n",
       "      <td>0.178129</td>\n",
       "      <td>0.1140</td>\n",
       "      <td>0.298</td>\n",
       "      <td>103.971</td>\n",
       "      <td>232533.0</td>\n",
       "      <td>4</td>\n",
       "    </tr>\n",
       "    <tr>\n",
       "      <th>3</th>\n",
       "      <td>52.000000</td>\n",
       "      <td>0.480</td>\n",
       "      <td>0.826</td>\n",
       "      <td>5.953781</td>\n",
       "      <td>-4.602</td>\n",
       "      <td>1</td>\n",
       "      <td>0.0397</td>\n",
       "      <td>0.000797</td>\n",
       "      <td>0.000001</td>\n",
       "      <td>0.1250</td>\n",
       "      <td>0.687</td>\n",
       "      <td>96.000</td>\n",
       "      <td>222053.0</td>\n",
       "      <td>4</td>\n",
       "    </tr>\n",
       "    <tr>\n",
       "      <th>4</th>\n",
       "      <td>23.000000</td>\n",
       "      <td>0.734</td>\n",
       "      <td>0.729</td>\n",
       "      <td>1.000000</td>\n",
       "      <td>-6.381</td>\n",
       "      <td>0</td>\n",
       "      <td>0.2830</td>\n",
       "      <td>0.147000</td>\n",
       "      <td>0.178129</td>\n",
       "      <td>0.0672</td>\n",
       "      <td>0.805</td>\n",
       "      <td>76.030</td>\n",
       "      <td>118439.0</td>\n",
       "      <td>4</td>\n",
       "    </tr>\n",
       "  </tbody>\n",
       "</table>\n",
       "</div>"
      ],
      "text/plain": [
       "   Popularity  danceability  energy       key  loudness  mode  speechiness  \\\n",
       "0   44.525208         0.691   0.670  2.000000    -7.093     0       0.0941   \n",
       "1   14.000000         0.461   0.777  2.000000    -7.469     1       0.0306   \n",
       "2   80.000000         0.656   0.291  2.000000   -10.572     1       0.0293   \n",
       "3   52.000000         0.480   0.826  5.953781    -4.602     1       0.0397   \n",
       "4   23.000000         0.734   0.729  1.000000    -6.381     0       0.2830   \n",
       "\n",
       "   acousticness  instrumentalness  liveness  valence    tempo  \\\n",
       "0      0.075700          0.035200    0.1970    0.635   89.965   \n",
       "1      0.388000          0.923000    0.2910    0.525  163.043   \n",
       "2      0.872000          0.178129    0.1140    0.298  103.971   \n",
       "3      0.000797          0.000001    0.1250    0.687   96.000   \n",
       "4      0.147000          0.178129    0.0672    0.805   76.030   \n",
       "\n",
       "   duration_in min/ms  time_signature  \n",
       "0            200000.0               4  \n",
       "1            283909.0               4  \n",
       "2            232533.0               4  \n",
       "3            222053.0               4  \n",
       "4            118439.0               4  "
      ]
     },
     "execution_count": 59,
     "metadata": {},
     "output_type": "execute_result"
    }
   ],
   "source": [
    "test_data.head()"
   ]
  },
  {
   "cell_type": "code",
   "execution_count": 60,
   "metadata": {},
   "outputs": [],
   "source": [
    "from sklearn.preprocessing import MinMaxScaler\n",
    "import numpy as np\n",
    "\n",
    "# assume your data is stored in a numpy array called X\n",
    "scaler = MinMaxScaler(feature_range=(0, 1)) # create the scaler object and specify the desired range\n",
    "x_features = [\"Popularity\",\"key\",\"loudness\",\"tempo\",\"duration_in min/ms\",\"time_signature\"]\n",
    "from_x = test_data[x_features]\n",
    "X_scaled = scaler.fit_transform(from_x)\n",
    "test_data[x_features] = X_scaled"
   ]
  },
  {
   "cell_type": "code",
   "execution_count": 61,
   "metadata": {},
   "outputs": [
    {
     "data": {
      "text/html": [
       "<div>\n",
       "<style scoped>\n",
       "    .dataframe tbody tr th:only-of-type {\n",
       "        vertical-align: middle;\n",
       "    }\n",
       "\n",
       "    .dataframe tbody tr th {\n",
       "        vertical-align: top;\n",
       "    }\n",
       "\n",
       "    .dataframe thead th {\n",
       "        text-align: right;\n",
       "    }\n",
       "</style>\n",
       "<table border=\"1\" class=\"dataframe\">\n",
       "  <thead>\n",
       "    <tr style=\"text-align: right;\">\n",
       "      <th></th>\n",
       "      <th>Popularity</th>\n",
       "      <th>danceability</th>\n",
       "      <th>energy</th>\n",
       "      <th>key</th>\n",
       "      <th>loudness</th>\n",
       "      <th>mode</th>\n",
       "      <th>speechiness</th>\n",
       "      <th>acousticness</th>\n",
       "      <th>instrumentalness</th>\n",
       "      <th>liveness</th>\n",
       "      <th>valence</th>\n",
       "      <th>tempo</th>\n",
       "      <th>duration_in min/ms</th>\n",
       "      <th>time_signature</th>\n",
       "    </tr>\n",
       "  </thead>\n",
       "  <tbody>\n",
       "    <tr>\n",
       "      <th>0</th>\n",
       "      <td>0.453388</td>\n",
       "      <td>0.691</td>\n",
       "      <td>0.670</td>\n",
       "      <td>0.100000</td>\n",
       "      <td>0.766320</td>\n",
       "      <td>0</td>\n",
       "      <td>0.0941</td>\n",
       "      <td>0.075700</td>\n",
       "      <td>0.035200</td>\n",
       "      <td>0.1970</td>\n",
       "      <td>0.635</td>\n",
       "      <td>0.248959</td>\n",
       "      <td>0.141597</td>\n",
       "      <td>0.75</td>\n",
       "    </tr>\n",
       "    <tr>\n",
       "      <th>1</th>\n",
       "      <td>0.135417</td>\n",
       "      <td>0.461</td>\n",
       "      <td>0.777</td>\n",
       "      <td>0.100000</td>\n",
       "      <td>0.755919</td>\n",
       "      <td>1</td>\n",
       "      <td>0.0306</td>\n",
       "      <td>0.388000</td>\n",
       "      <td>0.923000</td>\n",
       "      <td>0.2910</td>\n",
       "      <td>0.525</td>\n",
       "      <td>0.690043</td>\n",
       "      <td>0.201004</td>\n",
       "      <td>0.75</td>\n",
       "    </tr>\n",
       "    <tr>\n",
       "      <th>2</th>\n",
       "      <td>0.822917</td>\n",
       "      <td>0.656</td>\n",
       "      <td>0.291</td>\n",
       "      <td>0.100000</td>\n",
       "      <td>0.670087</td>\n",
       "      <td>1</td>\n",
       "      <td>0.0293</td>\n",
       "      <td>0.872000</td>\n",
       "      <td>0.178129</td>\n",
       "      <td>0.1140</td>\n",
       "      <td>0.298</td>\n",
       "      <td>0.333496</td>\n",
       "      <td>0.164630</td>\n",
       "      <td>0.75</td>\n",
       "    </tr>\n",
       "    <tr>\n",
       "      <th>3</th>\n",
       "      <td>0.531250</td>\n",
       "      <td>0.480</td>\n",
       "      <td>0.826</td>\n",
       "      <td>0.495378</td>\n",
       "      <td>0.835224</td>\n",
       "      <td>1</td>\n",
       "      <td>0.0397</td>\n",
       "      <td>0.000797</td>\n",
       "      <td>0.000001</td>\n",
       "      <td>0.1250</td>\n",
       "      <td>0.687</td>\n",
       "      <td>0.285385</td>\n",
       "      <td>0.157211</td>\n",
       "      <td>0.75</td>\n",
       "    </tr>\n",
       "    <tr>\n",
       "      <th>4</th>\n",
       "      <td>0.229167</td>\n",
       "      <td>0.734</td>\n",
       "      <td>0.729</td>\n",
       "      <td>0.000000</td>\n",
       "      <td>0.786015</td>\n",
       "      <td>0</td>\n",
       "      <td>0.2830</td>\n",
       "      <td>0.147000</td>\n",
       "      <td>0.178129</td>\n",
       "      <td>0.0672</td>\n",
       "      <td>0.805</td>\n",
       "      <td>0.164850</td>\n",
       "      <td>0.083853</td>\n",
       "      <td>0.75</td>\n",
       "    </tr>\n",
       "  </tbody>\n",
       "</table>\n",
       "</div>"
      ],
      "text/plain": [
       "   Popularity  danceability  energy       key  loudness  mode  speechiness  \\\n",
       "0    0.453388         0.691   0.670  0.100000  0.766320     0       0.0941   \n",
       "1    0.135417         0.461   0.777  0.100000  0.755919     1       0.0306   \n",
       "2    0.822917         0.656   0.291  0.100000  0.670087     1       0.0293   \n",
       "3    0.531250         0.480   0.826  0.495378  0.835224     1       0.0397   \n",
       "4    0.229167         0.734   0.729  0.000000  0.786015     0       0.2830   \n",
       "\n",
       "   acousticness  instrumentalness  liveness  valence     tempo  \\\n",
       "0      0.075700          0.035200    0.1970    0.635  0.248959   \n",
       "1      0.388000          0.923000    0.2910    0.525  0.690043   \n",
       "2      0.872000          0.178129    0.1140    0.298  0.333496   \n",
       "3      0.000797          0.000001    0.1250    0.687  0.285385   \n",
       "4      0.147000          0.178129    0.0672    0.805  0.164850   \n",
       "\n",
       "   duration_in min/ms  time_signature  \n",
       "0            0.141597            0.75  \n",
       "1            0.201004            0.75  \n",
       "2            0.164630            0.75  \n",
       "3            0.157211            0.75  \n",
       "4            0.083853            0.75  "
      ]
     },
     "execution_count": 61,
     "metadata": {},
     "output_type": "execute_result"
    }
   ],
   "source": [
    "test_data.head()"
   ]
  },
  {
   "cell_type": "code",
   "execution_count": 74,
   "metadata": {},
   "outputs": [],
   "source": [
    "pred_for_test_data = gb_classifier.predict(test_data)"
   ]
  },
  {
   "cell_type": "code",
   "execution_count": 75,
   "metadata": {},
   "outputs": [
    {
     "data": {
      "text/plain": [
       "array([ 6,  6,  9, ...,  6,  2, 10], dtype=int64)"
      ]
     },
     "execution_count": 75,
     "metadata": {},
     "output_type": "execute_result"
    }
   ],
   "source": [
    "pred_for_test_data"
   ]
  },
  {
   "cell_type": "code",
   "execution_count": 76,
   "metadata": {},
   "outputs": [
    {
     "data": {
      "text/plain": [
       "(3600,)"
      ]
     },
     "execution_count": 76,
     "metadata": {},
     "output_type": "execute_result"
    }
   ],
   "source": [
    "pred_for_test_data.shape"
   ]
  },
  {
   "cell_type": "code",
   "execution_count": 77,
   "metadata": {},
   "outputs": [],
   "source": [
    "id = pd.read_csv('test (2).csv')"
   ]
  },
  {
   "cell_type": "code",
   "execution_count": 78,
   "metadata": {},
   "outputs": [],
   "source": [
    "submission_gb = id[[\"Id\"]]"
   ]
  },
  {
   "cell_type": "code",
   "execution_count": 79,
   "metadata": {},
   "outputs": [
    {
     "name": "stderr",
     "output_type": "stream",
     "text": [
      "<ipython-input-79-35578871bb0c>:1: SettingWithCopyWarning: \n",
      "A value is trying to be set on a copy of a slice from a DataFrame.\n",
      "Try using .loc[row_indexer,col_indexer] = value instead\n",
      "\n",
      "See the caveats in the documentation: https://pandas.pydata.org/pandas-docs/stable/user_guide/indexing.html#returning-a-view-versus-a-copy\n",
      "  submission_gb[\"class\"] = pred_for_test_data\n"
     ]
    }
   ],
   "source": [
    "submission_gb[\"class\"] = pred_for_test_data"
   ]
  },
  {
   "cell_type": "code",
   "execution_count": 80,
   "metadata": {},
   "outputs": [
    {
     "data": {
      "text/html": [
       "<div>\n",
       "<style scoped>\n",
       "    .dataframe tbody tr th:only-of-type {\n",
       "        vertical-align: middle;\n",
       "    }\n",
       "\n",
       "    .dataframe tbody tr th {\n",
       "        vertical-align: top;\n",
       "    }\n",
       "\n",
       "    .dataframe thead th {\n",
       "        text-align: right;\n",
       "    }\n",
       "</style>\n",
       "<table border=\"1\" class=\"dataframe\">\n",
       "  <thead>\n",
       "    <tr style=\"text-align: right;\">\n",
       "      <th></th>\n",
       "      <th>Id</th>\n",
       "      <th>class</th>\n",
       "    </tr>\n",
       "  </thead>\n",
       "  <tbody>\n",
       "    <tr>\n",
       "      <th>0</th>\n",
       "      <td>14397</td>\n",
       "      <td>6</td>\n",
       "    </tr>\n",
       "    <tr>\n",
       "      <th>1</th>\n",
       "      <td>14398</td>\n",
       "      <td>6</td>\n",
       "    </tr>\n",
       "    <tr>\n",
       "      <th>2</th>\n",
       "      <td>14399</td>\n",
       "      <td>9</td>\n",
       "    </tr>\n",
       "    <tr>\n",
       "      <th>3</th>\n",
       "      <td>14400</td>\n",
       "      <td>10</td>\n",
       "    </tr>\n",
       "    <tr>\n",
       "      <th>4</th>\n",
       "      <td>14401</td>\n",
       "      <td>5</td>\n",
       "    </tr>\n",
       "  </tbody>\n",
       "</table>\n",
       "</div>"
      ],
      "text/plain": [
       "      Id  class\n",
       "0  14397      6\n",
       "1  14398      6\n",
       "2  14399      9\n",
       "3  14400     10\n",
       "4  14401      5"
      ]
     },
     "execution_count": 80,
     "metadata": {},
     "output_type": "execute_result"
    }
   ],
   "source": [
    "submission_gb.head()"
   ]
  },
  {
   "cell_type": "code",
   "execution_count": 81,
   "metadata": {},
   "outputs": [],
   "source": [
    "submission_gb.to_csv('submission_gb.csv',index=None)"
   ]
  }
 ],
 "metadata": {
  "accelerator": "GPU",
  "colab": {
   "gpuType": "T4",
   "provenance": []
  },
  "kernelspec": {
   "display_name": "Python 3",
   "language": "python",
   "name": "python3"
  },
  "language_info": {
   "codemirror_mode": {
    "name": "ipython",
    "version": 3
   },
   "file_extension": ".py",
   "mimetype": "text/x-python",
   "name": "python",
   "nbconvert_exporter": "python",
   "pygments_lexer": "ipython3",
   "version": "3.8.8"
  }
 },
 "nbformat": 4,
 "nbformat_minor": 1
}
